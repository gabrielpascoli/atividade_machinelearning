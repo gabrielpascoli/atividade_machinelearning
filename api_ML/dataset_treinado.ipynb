{
  "nbformat": 4,
  "nbformat_minor": 0,
  "metadata": {
    "colab": {
      "provenance": []
    },
    "kernelspec": {
      "name": "python3",
      "display_name": "Python 3"
    },
    "language_info": {
      "name": "python"
    },
    "widgets": {
      "application/vnd.jupyter.widget-state+json": {
        "a48be579ccd348ba92c7f4334bc0e97c": {
          "model_module": "@jupyter-widgets/controls",
          "model_name": "HBoxModel",
          "model_module_version": "1.5.0",
          "state": {
            "_dom_classes": [],
            "_model_module": "@jupyter-widgets/controls",
            "_model_module_version": "1.5.0",
            "_model_name": "HBoxModel",
            "_view_count": null,
            "_view_module": "@jupyter-widgets/controls",
            "_view_module_version": "1.5.0",
            "_view_name": "HBoxView",
            "box_style": "",
            "children": [
              "IPY_MODEL_2eeeadae441047f5ac36f24a6977908b",
              "IPY_MODEL_ff6f6c285f8d4f028a1e2408252e2c61",
              "IPY_MODEL_aea3438883f1440ebab08ccda66a7623"
            ],
            "layout": "IPY_MODEL_7a3adac5b21b4f11a869071c258af6c6"
          }
        },
        "2eeeadae441047f5ac36f24a6977908b": {
          "model_module": "@jupyter-widgets/controls",
          "model_name": "HTMLModel",
          "model_module_version": "1.5.0",
          "state": {
            "_dom_classes": [],
            "_model_module": "@jupyter-widgets/controls",
            "_model_module_version": "1.5.0",
            "_model_name": "HTMLModel",
            "_view_count": null,
            "_view_module": "@jupyter-widgets/controls",
            "_view_module_version": "1.5.0",
            "_view_name": "HTMLView",
            "description": "",
            "description_tooltip": null,
            "layout": "IPY_MODEL_b68976eefbce4bd796b046eb6840c967",
            "placeholder": "​",
            "style": "IPY_MODEL_5b9e457884334261b86e419c955b5ef0",
            "value": "Processing: 100%"
          }
        },
        "ff6f6c285f8d4f028a1e2408252e2c61": {
          "model_module": "@jupyter-widgets/controls",
          "model_name": "FloatProgressModel",
          "model_module_version": "1.5.0",
          "state": {
            "_dom_classes": [],
            "_model_module": "@jupyter-widgets/controls",
            "_model_module_version": "1.5.0",
            "_model_name": "FloatProgressModel",
            "_view_count": null,
            "_view_module": "@jupyter-widgets/controls",
            "_view_module_version": "1.5.0",
            "_view_name": "ProgressView",
            "bar_style": "",
            "description": "",
            "description_tooltip": null,
            "layout": "IPY_MODEL_77d31522a11b4d8fa1fcd2275251cfbe",
            "max": 81,
            "min": 0,
            "orientation": "horizontal",
            "style": "IPY_MODEL_9dfebc3469b64c1cb38a46fce17e94c8",
            "value": 81
          }
        },
        "aea3438883f1440ebab08ccda66a7623": {
          "model_module": "@jupyter-widgets/controls",
          "model_name": "HTMLModel",
          "model_module_version": "1.5.0",
          "state": {
            "_dom_classes": [],
            "_model_module": "@jupyter-widgets/controls",
            "_model_module_version": "1.5.0",
            "_model_name": "HTMLModel",
            "_view_count": null,
            "_view_module": "@jupyter-widgets/controls",
            "_view_module_version": "1.5.0",
            "_view_name": "HTMLView",
            "description": "",
            "description_tooltip": null,
            "layout": "IPY_MODEL_9055f2ae656a432f979f91df48bb82f7",
            "placeholder": "​",
            "style": "IPY_MODEL_2c2432dbfdd647199f35e0fb30d45135",
            "value": " 81/81 [00:40&lt;00:00,  5.19it/s]"
          }
        },
        "7a3adac5b21b4f11a869071c258af6c6": {
          "model_module": "@jupyter-widgets/base",
          "model_name": "LayoutModel",
          "model_module_version": "1.2.0",
          "state": {
            "_model_module": "@jupyter-widgets/base",
            "_model_module_version": "1.2.0",
            "_model_name": "LayoutModel",
            "_view_count": null,
            "_view_module": "@jupyter-widgets/base",
            "_view_module_version": "1.2.0",
            "_view_name": "LayoutView",
            "align_content": null,
            "align_items": null,
            "align_self": null,
            "border": null,
            "bottom": null,
            "display": null,
            "flex": null,
            "flex_flow": null,
            "grid_area": null,
            "grid_auto_columns": null,
            "grid_auto_flow": null,
            "grid_auto_rows": null,
            "grid_column": null,
            "grid_gap": null,
            "grid_row": null,
            "grid_template_areas": null,
            "grid_template_columns": null,
            "grid_template_rows": null,
            "height": null,
            "justify_content": null,
            "justify_items": null,
            "left": null,
            "margin": null,
            "max_height": null,
            "max_width": null,
            "min_height": null,
            "min_width": null,
            "object_fit": null,
            "object_position": null,
            "order": null,
            "overflow": null,
            "overflow_x": null,
            "overflow_y": null,
            "padding": null,
            "right": null,
            "top": null,
            "visibility": "hidden",
            "width": null
          }
        },
        "b68976eefbce4bd796b046eb6840c967": {
          "model_module": "@jupyter-widgets/base",
          "model_name": "LayoutModel",
          "model_module_version": "1.2.0",
          "state": {
            "_model_module": "@jupyter-widgets/base",
            "_model_module_version": "1.2.0",
            "_model_name": "LayoutModel",
            "_view_count": null,
            "_view_module": "@jupyter-widgets/base",
            "_view_module_version": "1.2.0",
            "_view_name": "LayoutView",
            "align_content": null,
            "align_items": null,
            "align_self": null,
            "border": null,
            "bottom": null,
            "display": null,
            "flex": null,
            "flex_flow": null,
            "grid_area": null,
            "grid_auto_columns": null,
            "grid_auto_flow": null,
            "grid_auto_rows": null,
            "grid_column": null,
            "grid_gap": null,
            "grid_row": null,
            "grid_template_areas": null,
            "grid_template_columns": null,
            "grid_template_rows": null,
            "height": null,
            "justify_content": null,
            "justify_items": null,
            "left": null,
            "margin": null,
            "max_height": null,
            "max_width": null,
            "min_height": null,
            "min_width": null,
            "object_fit": null,
            "object_position": null,
            "order": null,
            "overflow": null,
            "overflow_x": null,
            "overflow_y": null,
            "padding": null,
            "right": null,
            "top": null,
            "visibility": null,
            "width": null
          }
        },
        "5b9e457884334261b86e419c955b5ef0": {
          "model_module": "@jupyter-widgets/controls",
          "model_name": "DescriptionStyleModel",
          "model_module_version": "1.5.0",
          "state": {
            "_model_module": "@jupyter-widgets/controls",
            "_model_module_version": "1.5.0",
            "_model_name": "DescriptionStyleModel",
            "_view_count": null,
            "_view_module": "@jupyter-widgets/base",
            "_view_module_version": "1.2.0",
            "_view_name": "StyleView",
            "description_width": ""
          }
        },
        "77d31522a11b4d8fa1fcd2275251cfbe": {
          "model_module": "@jupyter-widgets/base",
          "model_name": "LayoutModel",
          "model_module_version": "1.2.0",
          "state": {
            "_model_module": "@jupyter-widgets/base",
            "_model_module_version": "1.2.0",
            "_model_name": "LayoutModel",
            "_view_count": null,
            "_view_module": "@jupyter-widgets/base",
            "_view_module_version": "1.2.0",
            "_view_name": "LayoutView",
            "align_content": null,
            "align_items": null,
            "align_self": null,
            "border": null,
            "bottom": null,
            "display": null,
            "flex": null,
            "flex_flow": null,
            "grid_area": null,
            "grid_auto_columns": null,
            "grid_auto_flow": null,
            "grid_auto_rows": null,
            "grid_column": null,
            "grid_gap": null,
            "grid_row": null,
            "grid_template_areas": null,
            "grid_template_columns": null,
            "grid_template_rows": null,
            "height": null,
            "justify_content": null,
            "justify_items": null,
            "left": null,
            "margin": null,
            "max_height": null,
            "max_width": null,
            "min_height": null,
            "min_width": null,
            "object_fit": null,
            "object_position": null,
            "order": null,
            "overflow": null,
            "overflow_x": null,
            "overflow_y": null,
            "padding": null,
            "right": null,
            "top": null,
            "visibility": null,
            "width": null
          }
        },
        "9dfebc3469b64c1cb38a46fce17e94c8": {
          "model_module": "@jupyter-widgets/controls",
          "model_name": "ProgressStyleModel",
          "model_module_version": "1.5.0",
          "state": {
            "_model_module": "@jupyter-widgets/controls",
            "_model_module_version": "1.5.0",
            "_model_name": "ProgressStyleModel",
            "_view_count": null,
            "_view_module": "@jupyter-widgets/base",
            "_view_module_version": "1.2.0",
            "_view_name": "StyleView",
            "bar_color": null,
            "description_width": ""
          }
        },
        "9055f2ae656a432f979f91df48bb82f7": {
          "model_module": "@jupyter-widgets/base",
          "model_name": "LayoutModel",
          "model_module_version": "1.2.0",
          "state": {
            "_model_module": "@jupyter-widgets/base",
            "_model_module_version": "1.2.0",
            "_model_name": "LayoutModel",
            "_view_count": null,
            "_view_module": "@jupyter-widgets/base",
            "_view_module_version": "1.2.0",
            "_view_name": "LayoutView",
            "align_content": null,
            "align_items": null,
            "align_self": null,
            "border": null,
            "bottom": null,
            "display": null,
            "flex": null,
            "flex_flow": null,
            "grid_area": null,
            "grid_auto_columns": null,
            "grid_auto_flow": null,
            "grid_auto_rows": null,
            "grid_column": null,
            "grid_gap": null,
            "grid_row": null,
            "grid_template_areas": null,
            "grid_template_columns": null,
            "grid_template_rows": null,
            "height": null,
            "justify_content": null,
            "justify_items": null,
            "left": null,
            "margin": null,
            "max_height": null,
            "max_width": null,
            "min_height": null,
            "min_width": null,
            "object_fit": null,
            "object_position": null,
            "order": null,
            "overflow": null,
            "overflow_x": null,
            "overflow_y": null,
            "padding": null,
            "right": null,
            "top": null,
            "visibility": null,
            "width": null
          }
        },
        "2c2432dbfdd647199f35e0fb30d45135": {
          "model_module": "@jupyter-widgets/controls",
          "model_name": "DescriptionStyleModel",
          "model_module_version": "1.5.0",
          "state": {
            "_model_module": "@jupyter-widgets/controls",
            "_model_module_version": "1.5.0",
            "_model_name": "DescriptionStyleModel",
            "_view_count": null,
            "_view_module": "@jupyter-widgets/base",
            "_view_module_version": "1.2.0",
            "_view_name": "StyleView",
            "description_width": ""
          }
        },
        "2c2b53e323f7442c96c3e5107d33482b": {
          "model_module": "@jupyter-widgets/controls",
          "model_name": "VBoxModel",
          "model_module_version": "1.5.0",
          "state": {
            "_dom_classes": [
              "widget-interact"
            ],
            "_model_module": "@jupyter-widgets/controls",
            "_model_module_version": "1.5.0",
            "_model_name": "VBoxModel",
            "_view_count": null,
            "_view_module": "@jupyter-widgets/controls",
            "_view_module_version": "1.5.0",
            "_view_name": "VBoxView",
            "box_style": "",
            "children": [
              "IPY_MODEL_5d39defc0a3a422a9dc948c2a1de6c62",
              "IPY_MODEL_e46f263892d34f6b8ed93e73c1cf7304"
            ],
            "layout": "IPY_MODEL_2309003ddced43e5b6f58d9c2315c5b6"
          }
        },
        "5d39defc0a3a422a9dc948c2a1de6c62": {
          "model_module": "@jupyter-widgets/controls",
          "model_name": "ToggleButtonsModel",
          "model_module_version": "1.5.0",
          "state": {
            "_dom_classes": [],
            "_model_module": "@jupyter-widgets/controls",
            "_model_module_version": "1.5.0",
            "_model_name": "ToggleButtonsModel",
            "_options_labels": [
              "Pipeline Plot",
              "Hyperparameters",
              "Residuals",
              "Prediction Error",
              "Cooks Distance",
              "Feature Selection",
              "Learning Curve",
              "Manifold Learning",
              "Validation Curve",
              "Feature Importance",
              "Feature Importance (All)",
              "Decision Tree",
              "Interactive Residuals"
            ],
            "_view_count": null,
            "_view_module": "@jupyter-widgets/controls",
            "_view_module_version": "1.5.0",
            "_view_name": "ToggleButtonsView",
            "button_style": "",
            "description": "Plot Type:",
            "description_tooltip": null,
            "disabled": false,
            "icons": [
              ""
            ],
            "index": 0,
            "layout": "IPY_MODEL_5b876a1174864948b626ebc7bc9765fc",
            "style": "IPY_MODEL_d94e8b5c10fd4b3ebc810996f3773272",
            "tooltips": []
          }
        },
        "e46f263892d34f6b8ed93e73c1cf7304": {
          "model_module": "@jupyter-widgets/output",
          "model_name": "OutputModel",
          "model_module_version": "1.0.0",
          "state": {
            "_dom_classes": [],
            "_model_module": "@jupyter-widgets/output",
            "_model_module_version": "1.0.0",
            "_model_name": "OutputModel",
            "_view_count": null,
            "_view_module": "@jupyter-widgets/output",
            "_view_module_version": "1.0.0",
            "_view_name": "OutputView",
            "layout": "IPY_MODEL_d015dedda4bf46b1a8b8484aa839b4f8",
            "msg_id": "",
            "outputs": [
              {
                "output_type": "display_data",
                "data": {
                  "text/plain": "<Figure size 1200x600 with 1 Axes>",
                  "image/png": "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\n"
                },
                "metadata": {}
              }
            ]
          }
        },
        "2309003ddced43e5b6f58d9c2315c5b6": {
          "model_module": "@jupyter-widgets/base",
          "model_name": "LayoutModel",
          "model_module_version": "1.2.0",
          "state": {
            "_model_module": "@jupyter-widgets/base",
            "_model_module_version": "1.2.0",
            "_model_name": "LayoutModel",
            "_view_count": null,
            "_view_module": "@jupyter-widgets/base",
            "_view_module_version": "1.2.0",
            "_view_name": "LayoutView",
            "align_content": null,
            "align_items": null,
            "align_self": null,
            "border": null,
            "bottom": null,
            "display": null,
            "flex": null,
            "flex_flow": null,
            "grid_area": null,
            "grid_auto_columns": null,
            "grid_auto_flow": null,
            "grid_auto_rows": null,
            "grid_column": null,
            "grid_gap": null,
            "grid_row": null,
            "grid_template_areas": null,
            "grid_template_columns": null,
            "grid_template_rows": null,
            "height": null,
            "justify_content": null,
            "justify_items": null,
            "left": null,
            "margin": null,
            "max_height": null,
            "max_width": null,
            "min_height": null,
            "min_width": null,
            "object_fit": null,
            "object_position": null,
            "order": null,
            "overflow": null,
            "overflow_x": null,
            "overflow_y": null,
            "padding": null,
            "right": null,
            "top": null,
            "visibility": null,
            "width": null
          }
        },
        "5b876a1174864948b626ebc7bc9765fc": {
          "model_module": "@jupyter-widgets/base",
          "model_name": "LayoutModel",
          "model_module_version": "1.2.0",
          "state": {
            "_model_module": "@jupyter-widgets/base",
            "_model_module_version": "1.2.0",
            "_model_name": "LayoutModel",
            "_view_count": null,
            "_view_module": "@jupyter-widgets/base",
            "_view_module_version": "1.2.0",
            "_view_name": "LayoutView",
            "align_content": null,
            "align_items": null,
            "align_self": null,
            "border": null,
            "bottom": null,
            "display": null,
            "flex": null,
            "flex_flow": null,
            "grid_area": null,
            "grid_auto_columns": null,
            "grid_auto_flow": null,
            "grid_auto_rows": null,
            "grid_column": null,
            "grid_gap": null,
            "grid_row": null,
            "grid_template_areas": null,
            "grid_template_columns": null,
            "grid_template_rows": null,
            "height": null,
            "justify_content": null,
            "justify_items": null,
            "left": null,
            "margin": null,
            "max_height": null,
            "max_width": null,
            "min_height": null,
            "min_width": null,
            "object_fit": null,
            "object_position": null,
            "order": null,
            "overflow": null,
            "overflow_x": null,
            "overflow_y": null,
            "padding": null,
            "right": null,
            "top": null,
            "visibility": null,
            "width": null
          }
        },
        "d94e8b5c10fd4b3ebc810996f3773272": {
          "model_module": "@jupyter-widgets/controls",
          "model_name": "ToggleButtonsStyleModel",
          "model_module_version": "1.5.0",
          "state": {
            "_model_module": "@jupyter-widgets/controls",
            "_model_module_version": "1.5.0",
            "_model_name": "ToggleButtonsStyleModel",
            "_view_count": null,
            "_view_module": "@jupyter-widgets/base",
            "_view_module_version": "1.2.0",
            "_view_name": "StyleView",
            "button_width": "",
            "description_width": "",
            "font_weight": ""
          }
        },
        "d015dedda4bf46b1a8b8484aa839b4f8": {
          "model_module": "@jupyter-widgets/base",
          "model_name": "LayoutModel",
          "model_module_version": "1.2.0",
          "state": {
            "_model_module": "@jupyter-widgets/base",
            "_model_module_version": "1.2.0",
            "_model_name": "LayoutModel",
            "_view_count": null,
            "_view_module": "@jupyter-widgets/base",
            "_view_module_version": "1.2.0",
            "_view_name": "LayoutView",
            "align_content": null,
            "align_items": null,
            "align_self": null,
            "border": null,
            "bottom": null,
            "display": null,
            "flex": null,
            "flex_flow": null,
            "grid_area": null,
            "grid_auto_columns": null,
            "grid_auto_flow": null,
            "grid_auto_rows": null,
            "grid_column": null,
            "grid_gap": null,
            "grid_row": null,
            "grid_template_areas": null,
            "grid_template_columns": null,
            "grid_template_rows": null,
            "height": null,
            "justify_content": null,
            "justify_items": null,
            "left": null,
            "margin": null,
            "max_height": null,
            "max_width": null,
            "min_height": null,
            "min_width": null,
            "object_fit": null,
            "object_position": null,
            "order": null,
            "overflow": null,
            "overflow_x": null,
            "overflow_y": null,
            "padding": null,
            "right": null,
            "top": null,
            "visibility": null,
            "width": null
          }
        }
      }
    }
  },
  "cells": [
    {
      "cell_type": "markdown",
      "source": [
        "## biblioteca do pycaret para treinamento do modelo ##"
      ],
      "metadata": {
        "id": "1rPYuBTDf-YQ"
      }
    },
    {
      "cell_type": "code",
      "source": [
        "!pip install pycaret[mlops]"
      ],
      "metadata": {
        "colab": {
          "base_uri": "https://localhost:8080/"
        },
        "id": "3SL91BOrfHrF",
        "outputId": "c20b9b59-409e-4de0-940d-b0b38ece2c0e"
      },
      "execution_count": 3,
      "outputs": [
        {
          "output_type": "stream",
          "name": "stdout",
          "text": [
            "Requirement already satisfied: pycaret[mlops] in /usr/local/lib/python3.10/dist-packages (3.1.0)\n",
            "Requirement already satisfied: ipython>=5.5.0 in /usr/local/lib/python3.10/dist-packages (from pycaret[mlops]) (7.34.0)\n",
            "Requirement already satisfied: ipywidgets>=7.6.5 in /usr/local/lib/python3.10/dist-packages (from pycaret[mlops]) (7.7.1)\n",
            "Requirement already satisfied: tqdm>=4.62.0 in /usr/local/lib/python3.10/dist-packages (from pycaret[mlops]) (4.66.1)\n",
            "Requirement already satisfied: numpy<1.24,>=1.21 in /usr/local/lib/python3.10/dist-packages (from pycaret[mlops]) (1.23.5)\n",
            "Requirement already satisfied: pandas<2.0.0,>=1.3.0 in /usr/local/lib/python3.10/dist-packages (from pycaret[mlops]) (1.5.3)\n",
            "Requirement already satisfied: jinja2>=1.2 in /usr/local/lib/python3.10/dist-packages (from pycaret[mlops]) (3.1.2)\n",
            "Requirement already satisfied: scipy~=1.10.1 in /usr/local/lib/python3.10/dist-packages (from pycaret[mlops]) (1.10.1)\n",
            "Requirement already satisfied: joblib>=1.2.0 in /usr/local/lib/python3.10/dist-packages (from pycaret[mlops]) (1.3.2)\n",
            "Requirement already satisfied: scikit-learn<1.3.0,>=1.0 in /usr/local/lib/python3.10/dist-packages (from pycaret[mlops]) (1.2.2)\n",
            "Requirement already satisfied: pyod>=1.0.8 in /usr/local/lib/python3.10/dist-packages (from pycaret[mlops]) (1.1.0)\n",
            "Requirement already satisfied: imbalanced-learn>=0.8.1 in /usr/local/lib/python3.10/dist-packages (from pycaret[mlops]) (0.10.1)\n",
            "Requirement already satisfied: category-encoders>=2.4.0 in /usr/local/lib/python3.10/dist-packages (from pycaret[mlops]) (2.6.2)\n",
            "Requirement already satisfied: lightgbm>=3.0.0 in /usr/local/lib/python3.10/dist-packages (from pycaret[mlops]) (4.0.0)\n",
            "Requirement already satisfied: numba>=0.55.0 in /usr/local/lib/python3.10/dist-packages (from pycaret[mlops]) (0.56.4)\n",
            "Requirement already satisfied: requests>=2.27.1 in /usr/local/lib/python3.10/dist-packages (from pycaret[mlops]) (2.31.0)\n",
            "Requirement already satisfied: psutil>=5.9.0 in /usr/local/lib/python3.10/dist-packages (from pycaret[mlops]) (5.9.5)\n",
            "Requirement already satisfied: markupsafe>=2.0.1 in /usr/local/lib/python3.10/dist-packages (from pycaret[mlops]) (2.1.3)\n",
            "Requirement already satisfied: importlib-metadata>=4.12.0 in /usr/local/lib/python3.10/dist-packages (from pycaret[mlops]) (5.2.0)\n",
            "Requirement already satisfied: nbformat>=4.2.0 in /usr/local/lib/python3.10/dist-packages (from pycaret[mlops]) (5.9.2)\n",
            "Requirement already satisfied: cloudpickle in /usr/local/lib/python3.10/dist-packages (from pycaret[mlops]) (2.2.1)\n",
            "Requirement already satisfied: deprecation>=2.1.0 in /usr/local/lib/python3.10/dist-packages (from pycaret[mlops]) (2.1.0)\n",
            "Requirement already satisfied: xxhash in /usr/local/lib/python3.10/dist-packages (from pycaret[mlops]) (3.3.0)\n",
            "Requirement already satisfied: matplotlib>=3.3.0 in /usr/local/lib/python3.10/dist-packages (from pycaret[mlops]) (3.7.1)\n",
            "Requirement already satisfied: scikit-plot>=0.3.7 in /usr/local/lib/python3.10/dist-packages (from pycaret[mlops]) (0.3.7)\n",
            "Requirement already satisfied: yellowbrick>=1.4 in /usr/local/lib/python3.10/dist-packages (from pycaret[mlops]) (1.5)\n",
            "Requirement already satisfied: plotly>=5.0.0 in /usr/local/lib/python3.10/dist-packages (from pycaret[mlops]) (5.15.0)\n",
            "Requirement already satisfied: kaleido>=0.2.1 in /usr/local/lib/python3.10/dist-packages (from pycaret[mlops]) (0.2.1)\n",
            "Requirement already satisfied: schemdraw==0.15 in /usr/local/lib/python3.10/dist-packages (from pycaret[mlops]) (0.15)\n",
            "Requirement already satisfied: plotly-resampler>=0.8.3.1 in /usr/local/lib/python3.10/dist-packages (from pycaret[mlops]) (0.9.1)\n",
            "Requirement already satisfied: statsmodels>=0.12.1 in /usr/local/lib/python3.10/dist-packages (from pycaret[mlops]) (0.14.0)\n",
            "Requirement already satisfied: sktime!=0.17.1,!=0.17.2,!=0.18.0,<0.22.0,>=0.16.1 in /usr/local/lib/python3.10/dist-packages (from pycaret[mlops]) (0.21.1)\n",
            "Requirement already satisfied: tbats>=1.1.3 in /usr/local/lib/python3.10/dist-packages (from pycaret[mlops]) (1.1.3)\n",
            "Requirement already satisfied: pmdarima!=1.8.1,<3.0.0,>=1.8.0 in /usr/local/lib/python3.10/dist-packages (from pycaret[mlops]) (2.0.3)\n",
            "Requirement already satisfied: wurlitzer in /usr/local/lib/python3.10/dist-packages (from pycaret[mlops]) (3.0.3)\n",
            "Requirement already satisfied: mlflow<2.0.0,>=1.24.0 in /usr/local/lib/python3.10/dist-packages (from pycaret[mlops]) (1.30.1)\n",
            "Requirement already satisfied: gradio>=2.8.10 in /usr/local/lib/python3.10/dist-packages (from pycaret[mlops]) (3.43.2)\n",
            "Requirement already satisfied: boto3>=1.24.56 in /usr/local/lib/python3.10/dist-packages (from pycaret[mlops]) (1.28.45)\n",
            "Requirement already satisfied: fastapi>=0.75.0 in /usr/local/lib/python3.10/dist-packages (from pycaret[mlops]) (0.103.1)\n",
            "Requirement already satisfied: uvicorn>=0.17.6 in /usr/local/lib/python3.10/dist-packages (from pycaret[mlops]) (0.23.2)\n",
            "Requirement already satisfied: m2cgen>=0.9.0 in /usr/local/lib/python3.10/dist-packages (from pycaret[mlops]) (0.10.0)\n",
            "Requirement already satisfied: evidently<0.3,>=0.1.45.dev0 in /usr/local/lib/python3.10/dist-packages (from pycaret[mlops]) (0.2.8)\n",
            "Requirement already satisfied: botocore<1.32.0,>=1.31.45 in /usr/local/lib/python3.10/dist-packages (from boto3>=1.24.56->pycaret[mlops]) (1.31.45)\n",
            "Requirement already satisfied: jmespath<2.0.0,>=0.7.1 in /usr/local/lib/python3.10/dist-packages (from boto3>=1.24.56->pycaret[mlops]) (1.0.1)\n",
            "Requirement already satisfied: s3transfer<0.7.0,>=0.6.0 in /usr/local/lib/python3.10/dist-packages (from boto3>=1.24.56->pycaret[mlops]) (0.6.2)\n",
            "Requirement already satisfied: patsy>=0.5.1 in /usr/local/lib/python3.10/dist-packages (from category-encoders>=2.4.0->pycaret[mlops]) (0.5.3)\n",
            "Requirement already satisfied: packaging in /usr/local/lib/python3.10/dist-packages (from deprecation>=2.1.0->pycaret[mlops]) (21.3)\n",
            "Requirement already satisfied: nltk>=3.6.7 in /usr/local/lib/python3.10/dist-packages (from evidently<0.3,>=0.1.45.dev0->pycaret[mlops]) (3.8.1)\n",
            "Requirement already satisfied: PyYAML>=5.1 in /usr/local/lib/python3.10/dist-packages (from evidently<0.3,>=0.1.45.dev0->pycaret[mlops]) (6.0.1)\n",
            "Requirement already satisfied: pydantic<2 in /usr/local/lib/python3.10/dist-packages (from evidently<0.3,>=0.1.45.dev0->pycaret[mlops]) (1.10.12)\n",
            "Requirement already satisfied: anyio<4.0.0,>=3.7.1 in /usr/local/lib/python3.10/dist-packages (from fastapi>=0.75.0->pycaret[mlops]) (3.7.1)\n",
            "Requirement already satisfied: starlette<0.28.0,>=0.27.0 in /usr/local/lib/python3.10/dist-packages (from fastapi>=0.75.0->pycaret[mlops]) (0.27.0)\n",
            "Requirement already satisfied: typing-extensions>=4.5.0 in /usr/local/lib/python3.10/dist-packages (from fastapi>=0.75.0->pycaret[mlops]) (4.5.0)\n",
            "Requirement already satisfied: aiofiles<24.0,>=22.0 in /usr/local/lib/python3.10/dist-packages (from gradio>=2.8.10->pycaret[mlops]) (23.2.1)\n",
            "Requirement already satisfied: altair<6.0,>=4.2.0 in /usr/local/lib/python3.10/dist-packages (from gradio>=2.8.10->pycaret[mlops]) (4.2.2)\n",
            "Requirement already satisfied: ffmpy in /usr/local/lib/python3.10/dist-packages (from gradio>=2.8.10->pycaret[mlops]) (0.3.1)\n",
            "Requirement already satisfied: gradio-client==0.5.0 in /usr/local/lib/python3.10/dist-packages (from gradio>=2.8.10->pycaret[mlops]) (0.5.0)\n",
            "Requirement already satisfied: httpx in /usr/local/lib/python3.10/dist-packages (from gradio>=2.8.10->pycaret[mlops]) (0.25.0)\n",
            "Requirement already satisfied: huggingface-hub>=0.14.0 in /usr/local/lib/python3.10/dist-packages (from gradio>=2.8.10->pycaret[mlops]) (0.17.1)\n",
            "Requirement already satisfied: importlib-resources<7.0,>=1.3 in /usr/local/lib/python3.10/dist-packages (from gradio>=2.8.10->pycaret[mlops]) (6.0.1)\n",
            "Requirement already satisfied: orjson~=3.0 in /usr/local/lib/python3.10/dist-packages (from gradio>=2.8.10->pycaret[mlops]) (3.9.7)\n",
            "Requirement already satisfied: pillow<11.0,>=8.0 in /usr/local/lib/python3.10/dist-packages (from gradio>=2.8.10->pycaret[mlops]) (9.4.0)\n",
            "Requirement already satisfied: pydub in /usr/local/lib/python3.10/dist-packages (from gradio>=2.8.10->pycaret[mlops]) (0.25.1)\n",
            "Requirement already satisfied: python-multipart in /usr/local/lib/python3.10/dist-packages (from gradio>=2.8.10->pycaret[mlops]) (0.0.6)\n",
            "Requirement already satisfied: semantic-version~=2.0 in /usr/local/lib/python3.10/dist-packages (from gradio>=2.8.10->pycaret[mlops]) (2.10.0)\n",
            "Requirement already satisfied: websockets<12.0,>=10.0 in /usr/local/lib/python3.10/dist-packages (from gradio>=2.8.10->pycaret[mlops]) (11.0.3)\n",
            "Requirement already satisfied: fsspec in /usr/local/lib/python3.10/dist-packages (from gradio-client==0.5.0->gradio>=2.8.10->pycaret[mlops]) (2023.6.0)\n",
            "Requirement already satisfied: threadpoolctl>=2.0.0 in /usr/local/lib/python3.10/dist-packages (from imbalanced-learn>=0.8.1->pycaret[mlops]) (3.2.0)\n",
            "Requirement already satisfied: zipp>=0.5 in /usr/local/lib/python3.10/dist-packages (from importlib-metadata>=4.12.0->pycaret[mlops]) (3.16.2)\n",
            "Requirement already satisfied: setuptools>=18.5 in /usr/local/lib/python3.10/dist-packages (from ipython>=5.5.0->pycaret[mlops]) (67.7.2)\n",
            "Requirement already satisfied: jedi>=0.16 in /usr/local/lib/python3.10/dist-packages (from ipython>=5.5.0->pycaret[mlops]) (0.19.0)\n",
            "Requirement already satisfied: decorator in /usr/local/lib/python3.10/dist-packages (from ipython>=5.5.0->pycaret[mlops]) (4.4.2)\n",
            "Requirement already satisfied: pickleshare in /usr/local/lib/python3.10/dist-packages (from ipython>=5.5.0->pycaret[mlops]) (0.7.5)\n",
            "Requirement already satisfied: traitlets>=4.2 in /usr/local/lib/python3.10/dist-packages (from ipython>=5.5.0->pycaret[mlops]) (5.7.1)\n",
            "Requirement already satisfied: prompt-toolkit!=3.0.0,!=3.0.1,<3.1.0,>=2.0.0 in /usr/local/lib/python3.10/dist-packages (from ipython>=5.5.0->pycaret[mlops]) (3.0.39)\n",
            "Requirement already satisfied: pygments in /usr/local/lib/python3.10/dist-packages (from ipython>=5.5.0->pycaret[mlops]) (2.16.1)\n",
            "Requirement already satisfied: backcall in /usr/local/lib/python3.10/dist-packages (from ipython>=5.5.0->pycaret[mlops]) (0.2.0)\n",
            "Requirement already satisfied: matplotlib-inline in /usr/local/lib/python3.10/dist-packages (from ipython>=5.5.0->pycaret[mlops]) (0.1.6)\n",
            "Requirement already satisfied: pexpect>4.3 in /usr/local/lib/python3.10/dist-packages (from ipython>=5.5.0->pycaret[mlops]) (4.8.0)\n",
            "Requirement already satisfied: ipykernel>=4.5.1 in /usr/local/lib/python3.10/dist-packages (from ipywidgets>=7.6.5->pycaret[mlops]) (5.5.6)\n",
            "Requirement already satisfied: ipython-genutils~=0.2.0 in /usr/local/lib/python3.10/dist-packages (from ipywidgets>=7.6.5->pycaret[mlops]) (0.2.0)\n",
            "Requirement already satisfied: widgetsnbextension~=3.6.0 in /usr/local/lib/python3.10/dist-packages (from ipywidgets>=7.6.5->pycaret[mlops]) (3.6.5)\n",
            "Requirement already satisfied: jupyterlab-widgets>=1.0.0 in /usr/local/lib/python3.10/dist-packages (from ipywidgets>=7.6.5->pycaret[mlops]) (3.0.8)\n",
            "Requirement already satisfied: contourpy>=1.0.1 in /usr/local/lib/python3.10/dist-packages (from matplotlib>=3.3.0->pycaret[mlops]) (1.1.0)\n",
            "Requirement already satisfied: cycler>=0.10 in /usr/local/lib/python3.10/dist-packages (from matplotlib>=3.3.0->pycaret[mlops]) (0.11.0)\n",
            "Requirement already satisfied: fonttools>=4.22.0 in /usr/local/lib/python3.10/dist-packages (from matplotlib>=3.3.0->pycaret[mlops]) (4.42.1)\n",
            "Requirement already satisfied: kiwisolver>=1.0.1 in /usr/local/lib/python3.10/dist-packages (from matplotlib>=3.3.0->pycaret[mlops]) (1.4.5)\n",
            "Requirement already satisfied: pyparsing>=2.3.1 in /usr/local/lib/python3.10/dist-packages (from matplotlib>=3.3.0->pycaret[mlops]) (3.1.1)\n",
            "Requirement already satisfied: python-dateutil>=2.7 in /usr/local/lib/python3.10/dist-packages (from matplotlib>=3.3.0->pycaret[mlops]) (2.8.2)\n",
            "Requirement already satisfied: click<9,>=7.0 in /usr/local/lib/python3.10/dist-packages (from mlflow<2.0.0,>=1.24.0->pycaret[mlops]) (8.1.7)\n",
            "Requirement already satisfied: databricks-cli<1,>=0.8.7 in /usr/local/lib/python3.10/dist-packages (from mlflow<2.0.0,>=1.24.0->pycaret[mlops]) (0.17.7)\n",
            "Requirement already satisfied: entrypoints<1 in /usr/local/lib/python3.10/dist-packages (from mlflow<2.0.0,>=1.24.0->pycaret[mlops]) (0.4)\n",
            "Requirement already satisfied: gitpython<4,>=2.1.0 in /usr/local/lib/python3.10/dist-packages (from mlflow<2.0.0,>=1.24.0->pycaret[mlops]) (3.1.35)\n",
            "Requirement already satisfied: protobuf<5,>=3.12.0 in /usr/local/lib/python3.10/dist-packages (from mlflow<2.0.0,>=1.24.0->pycaret[mlops]) (3.20.3)\n",
            "Requirement already satisfied: pytz<2023 in /usr/local/lib/python3.10/dist-packages (from mlflow<2.0.0,>=1.24.0->pycaret[mlops]) (2022.7.1)\n",
            "Requirement already satisfied: sqlparse<1,>=0.4.0 in /usr/local/lib/python3.10/dist-packages (from mlflow<2.0.0,>=1.24.0->pycaret[mlops]) (0.4.4)\n",
            "Requirement already satisfied: alembic<2 in /usr/local/lib/python3.10/dist-packages (from mlflow<2.0.0,>=1.24.0->pycaret[mlops]) (1.12.0)\n",
            "Requirement already satisfied: docker<7,>=4.0.0 in /usr/local/lib/python3.10/dist-packages (from mlflow<2.0.0,>=1.24.0->pycaret[mlops]) (6.1.3)\n",
            "Requirement already satisfied: Flask<3 in /usr/local/lib/python3.10/dist-packages (from mlflow<2.0.0,>=1.24.0->pycaret[mlops]) (2.2.5)\n",
            "Requirement already satisfied: prometheus-flask-exporter<1 in /usr/local/lib/python3.10/dist-packages (from mlflow<2.0.0,>=1.24.0->pycaret[mlops]) (0.22.4)\n",
            "Requirement already satisfied: querystring-parser<2 in /usr/local/lib/python3.10/dist-packages (from mlflow<2.0.0,>=1.24.0->pycaret[mlops]) (1.2.4)\n",
            "Requirement already satisfied: sqlalchemy<2,>=1.4.0 in /usr/local/lib/python3.10/dist-packages (from mlflow<2.0.0,>=1.24.0->pycaret[mlops]) (1.4.49)\n",
            "Requirement already satisfied: gunicorn<21 in /usr/local/lib/python3.10/dist-packages (from mlflow<2.0.0,>=1.24.0->pycaret[mlops]) (20.1.0)\n",
            "Requirement already satisfied: fastjsonschema in /usr/local/lib/python3.10/dist-packages (from nbformat>=4.2.0->pycaret[mlops]) (2.18.0)\n",
            "Requirement already satisfied: jsonschema>=2.6 in /usr/local/lib/python3.10/dist-packages (from nbformat>=4.2.0->pycaret[mlops]) (4.19.0)\n",
            "Requirement already satisfied: jupyter-core in /usr/local/lib/python3.10/dist-packages (from nbformat>=4.2.0->pycaret[mlops]) (5.3.1)\n",
            "Requirement already satisfied: llvmlite<0.40,>=0.39.0dev0 in /usr/local/lib/python3.10/dist-packages (from numba>=0.55.0->pycaret[mlops]) (0.39.1)\n",
            "Requirement already satisfied: tenacity>=6.2.0 in /usr/local/lib/python3.10/dist-packages (from plotly>=5.0.0->pycaret[mlops]) (8.2.3)\n",
            "Requirement already satisfied: dash<3.0.0,>=2.11.0 in /usr/local/lib/python3.10/dist-packages (from plotly-resampler>=0.8.3.1->pycaret[mlops]) (2.13.0)\n",
            "Requirement already satisfied: trace-updater>=0.0.8 in /usr/local/lib/python3.10/dist-packages (from plotly-resampler>=0.8.3.1->pycaret[mlops]) (0.0.9.1)\n",
            "Requirement already satisfied: tsdownsample==0.1.2 in /usr/local/lib/python3.10/dist-packages (from plotly-resampler>=0.8.3.1->pycaret[mlops]) (0.1.2)\n",
            "Requirement already satisfied: Cython!=0.29.18,!=0.29.31,>=0.29 in /usr/local/lib/python3.10/dist-packages (from pmdarima!=1.8.1,<3.0.0,>=1.8.0->pycaret[mlops]) (3.0.2)\n",
            "Requirement already satisfied: urllib3 in /usr/local/lib/python3.10/dist-packages (from pmdarima!=1.8.1,<3.0.0,>=1.8.0->pycaret[mlops]) (1.26.16)\n",
            "Requirement already satisfied: six in /usr/local/lib/python3.10/dist-packages (from pyod>=1.0.8->pycaret[mlops]) (1.16.0)\n",
            "Requirement already satisfied: charset-normalizer<4,>=2 in /usr/local/lib/python3.10/dist-packages (from requests>=2.27.1->pycaret[mlops]) (3.2.0)\n",
            "Requirement already satisfied: idna<4,>=2.5 in /usr/local/lib/python3.10/dist-packages (from requests>=2.27.1->pycaret[mlops]) (3.4)\n",
            "Requirement already satisfied: certifi>=2017.4.17 in /usr/local/lib/python3.10/dist-packages (from requests>=2.27.1->pycaret[mlops]) (2023.7.22)\n",
            "Requirement already satisfied: deprecated>=1.2.13 in /usr/local/lib/python3.10/dist-packages (from sktime!=0.17.1,!=0.17.2,!=0.18.0,<0.22.0,>=0.16.1->pycaret[mlops]) (1.2.14)\n",
            "Requirement already satisfied: scikit-base<0.6.0 in /usr/local/lib/python3.10/dist-packages (from sktime!=0.17.1,!=0.17.2,!=0.18.0,<0.22.0,>=0.16.1->pycaret[mlops]) (0.5.1)\n",
            "Requirement already satisfied: h11>=0.8 in /usr/local/lib/python3.10/dist-packages (from uvicorn>=0.17.6->pycaret[mlops]) (0.14.0)\n",
            "Requirement already satisfied: Mako in /usr/local/lib/python3.10/dist-packages (from alembic<2->mlflow<2.0.0,>=1.24.0->pycaret[mlops]) (1.2.4)\n",
            "Requirement already satisfied: toolz in /usr/local/lib/python3.10/dist-packages (from altair<6.0,>=4.2.0->gradio>=2.8.10->pycaret[mlops]) (0.12.0)\n",
            "Requirement already satisfied: sniffio>=1.1 in /usr/local/lib/python3.10/dist-packages (from anyio<4.0.0,>=3.7.1->fastapi>=0.75.0->pycaret[mlops]) (1.3.0)\n",
            "Requirement already satisfied: exceptiongroup in /usr/local/lib/python3.10/dist-packages (from anyio<4.0.0,>=3.7.1->fastapi>=0.75.0->pycaret[mlops]) (1.1.3)\n",
            "Requirement already satisfied: Werkzeug<2.3.0 in /usr/local/lib/python3.10/dist-packages (from dash<3.0.0,>=2.11.0->plotly-resampler>=0.8.3.1->pycaret[mlops]) (2.2.3)\n",
            "Requirement already satisfied: dash-html-components==2.0.0 in /usr/local/lib/python3.10/dist-packages (from dash<3.0.0,>=2.11.0->plotly-resampler>=0.8.3.1->pycaret[mlops]) (2.0.0)\n",
            "Requirement already satisfied: dash-core-components==2.0.0 in /usr/local/lib/python3.10/dist-packages (from dash<3.0.0,>=2.11.0->plotly-resampler>=0.8.3.1->pycaret[mlops]) (2.0.0)\n",
            "Requirement already satisfied: dash-table==5.0.0 in /usr/local/lib/python3.10/dist-packages (from dash<3.0.0,>=2.11.0->plotly-resampler>=0.8.3.1->pycaret[mlops]) (5.0.0)\n",
            "Requirement already satisfied: retrying in /usr/local/lib/python3.10/dist-packages (from dash<3.0.0,>=2.11.0->plotly-resampler>=0.8.3.1->pycaret[mlops]) (1.3.4)\n",
            "Requirement already satisfied: ansi2html in /usr/local/lib/python3.10/dist-packages (from dash<3.0.0,>=2.11.0->plotly-resampler>=0.8.3.1->pycaret[mlops]) (1.8.0)\n",
            "Requirement already satisfied: nest-asyncio in /usr/local/lib/python3.10/dist-packages (from dash<3.0.0,>=2.11.0->plotly-resampler>=0.8.3.1->pycaret[mlops]) (1.5.7)\n",
            "Requirement already satisfied: pyjwt>=1.7.0 in /usr/lib/python3/dist-packages (from databricks-cli<1,>=0.8.7->mlflow<2.0.0,>=1.24.0->pycaret[mlops]) (2.3.0)\n",
            "Requirement already satisfied: oauthlib>=3.1.0 in /usr/local/lib/python3.10/dist-packages (from databricks-cli<1,>=0.8.7->mlflow<2.0.0,>=1.24.0->pycaret[mlops]) (3.2.2)\n",
            "Requirement already satisfied: tabulate>=0.7.7 in /usr/local/lib/python3.10/dist-packages (from databricks-cli<1,>=0.8.7->mlflow<2.0.0,>=1.24.0->pycaret[mlops]) (0.9.0)\n",
            "Requirement already satisfied: wrapt<2,>=1.10 in /usr/local/lib/python3.10/dist-packages (from deprecated>=1.2.13->sktime!=0.17.1,!=0.17.2,!=0.18.0,<0.22.0,>=0.16.1->pycaret[mlops]) (1.15.0)\n",
            "Requirement already satisfied: websocket-client>=0.32.0 in /usr/local/lib/python3.10/dist-packages (from docker<7,>=4.0.0->mlflow<2.0.0,>=1.24.0->pycaret[mlops]) (1.6.2)\n",
            "Requirement already satisfied: itsdangerous>=2.0 in /usr/local/lib/python3.10/dist-packages (from Flask<3->mlflow<2.0.0,>=1.24.0->pycaret[mlops]) (2.1.2)\n",
            "Requirement already satisfied: gitdb<5,>=4.0.1 in /usr/local/lib/python3.10/dist-packages (from gitpython<4,>=2.1.0->mlflow<2.0.0,>=1.24.0->pycaret[mlops]) (4.0.10)\n",
            "Requirement already satisfied: filelock in /usr/local/lib/python3.10/dist-packages (from huggingface-hub>=0.14.0->gradio>=2.8.10->pycaret[mlops]) (3.12.2)\n",
            "Requirement already satisfied: jupyter-client in /usr/local/lib/python3.10/dist-packages (from ipykernel>=4.5.1->ipywidgets>=7.6.5->pycaret[mlops]) (6.1.12)\n",
            "Requirement already satisfied: tornado>=4.2 in /usr/local/lib/python3.10/dist-packages (from ipykernel>=4.5.1->ipywidgets>=7.6.5->pycaret[mlops]) (6.3.2)\n",
            "Requirement already satisfied: parso<0.9.0,>=0.8.3 in /usr/local/lib/python3.10/dist-packages (from jedi>=0.16->ipython>=5.5.0->pycaret[mlops]) (0.8.3)\n",
            "Requirement already satisfied: attrs>=22.2.0 in /usr/local/lib/python3.10/dist-packages (from jsonschema>=2.6->nbformat>=4.2.0->pycaret[mlops]) (23.1.0)\n",
            "Requirement already satisfied: jsonschema-specifications>=2023.03.6 in /usr/local/lib/python3.10/dist-packages (from jsonschema>=2.6->nbformat>=4.2.0->pycaret[mlops]) (2023.7.1)\n",
            "Requirement already satisfied: referencing>=0.28.4 in /usr/local/lib/python3.10/dist-packages (from jsonschema>=2.6->nbformat>=4.2.0->pycaret[mlops]) (0.30.2)\n",
            "Requirement already satisfied: rpds-py>=0.7.1 in /usr/local/lib/python3.10/dist-packages (from jsonschema>=2.6->nbformat>=4.2.0->pycaret[mlops]) (0.10.2)\n",
            "Requirement already satisfied: regex>=2021.8.3 in /usr/local/lib/python3.10/dist-packages (from nltk>=3.6.7->evidently<0.3,>=0.1.45.dev0->pycaret[mlops]) (2023.6.3)\n",
            "Requirement already satisfied: ptyprocess>=0.5 in /usr/local/lib/python3.10/dist-packages (from pexpect>4.3->ipython>=5.5.0->pycaret[mlops]) (0.7.0)\n",
            "Requirement already satisfied: prometheus-client in /usr/local/lib/python3.10/dist-packages (from prometheus-flask-exporter<1->mlflow<2.0.0,>=1.24.0->pycaret[mlops]) (0.17.1)\n",
            "Requirement already satisfied: wcwidth in /usr/local/lib/python3.10/dist-packages (from prompt-toolkit!=3.0.0,!=3.0.1,<3.1.0,>=2.0.0->ipython>=5.5.0->pycaret[mlops]) (0.2.6)\n",
            "Requirement already satisfied: greenlet!=0.4.17 in /usr/local/lib/python3.10/dist-packages (from sqlalchemy<2,>=1.4.0->mlflow<2.0.0,>=1.24.0->pycaret[mlops]) (2.0.2)\n",
            "Requirement already satisfied: notebook>=4.4.1 in /usr/local/lib/python3.10/dist-packages (from widgetsnbextension~=3.6.0->ipywidgets>=7.6.5->pycaret[mlops]) (6.5.5)\n",
            "Requirement already satisfied: httpcore<0.19.0,>=0.18.0 in /usr/local/lib/python3.10/dist-packages (from httpx->gradio>=2.8.10->pycaret[mlops]) (0.18.0)\n",
            "Requirement already satisfied: platformdirs>=2.5 in /usr/local/lib/python3.10/dist-packages (from jupyter-core->nbformat>=4.2.0->pycaret[mlops]) (3.10.0)\n",
            "Requirement already satisfied: smmap<6,>=3.0.1 in /usr/local/lib/python3.10/dist-packages (from gitdb<5,>=4.0.1->gitpython<4,>=2.1.0->mlflow<2.0.0,>=1.24.0->pycaret[mlops]) (5.0.0)\n",
            "Requirement already satisfied: pyzmq<25,>=17 in /usr/local/lib/python3.10/dist-packages (from notebook>=4.4.1->widgetsnbextension~=3.6.0->ipywidgets>=7.6.5->pycaret[mlops]) (23.2.1)\n",
            "Requirement already satisfied: argon2-cffi in /usr/local/lib/python3.10/dist-packages (from notebook>=4.4.1->widgetsnbextension~=3.6.0->ipywidgets>=7.6.5->pycaret[mlops]) (23.1.0)\n",
            "Requirement already satisfied: nbconvert>=5 in /usr/local/lib/python3.10/dist-packages (from notebook>=4.4.1->widgetsnbextension~=3.6.0->ipywidgets>=7.6.5->pycaret[mlops]) (6.5.4)\n",
            "Requirement already satisfied: Send2Trash>=1.8.0 in /usr/local/lib/python3.10/dist-packages (from notebook>=4.4.1->widgetsnbextension~=3.6.0->ipywidgets>=7.6.5->pycaret[mlops]) (1.8.2)\n",
            "Requirement already satisfied: terminado>=0.8.3 in /usr/local/lib/python3.10/dist-packages (from notebook>=4.4.1->widgetsnbextension~=3.6.0->ipywidgets>=7.6.5->pycaret[mlops]) (0.17.1)\n",
            "Requirement already satisfied: nbclassic>=0.4.7 in /usr/local/lib/python3.10/dist-packages (from notebook>=4.4.1->widgetsnbextension~=3.6.0->ipywidgets>=7.6.5->pycaret[mlops]) (1.0.0)\n",
            "Requirement already satisfied: jupyter-server>=1.8 in /usr/local/lib/python3.10/dist-packages (from nbclassic>=0.4.7->notebook>=4.4.1->widgetsnbextension~=3.6.0->ipywidgets>=7.6.5->pycaret[mlops]) (1.24.0)\n",
            "Requirement already satisfied: notebook-shim>=0.2.3 in /usr/local/lib/python3.10/dist-packages (from nbclassic>=0.4.7->notebook>=4.4.1->widgetsnbextension~=3.6.0->ipywidgets>=7.6.5->pycaret[mlops]) (0.2.3)\n",
            "Requirement already satisfied: lxml in /usr/local/lib/python3.10/dist-packages (from nbconvert>=5->notebook>=4.4.1->widgetsnbextension~=3.6.0->ipywidgets>=7.6.5->pycaret[mlops]) (4.9.3)\n",
            "Requirement already satisfied: beautifulsoup4 in /usr/local/lib/python3.10/dist-packages (from nbconvert>=5->notebook>=4.4.1->widgetsnbextension~=3.6.0->ipywidgets>=7.6.5->pycaret[mlops]) (4.11.2)\n",
            "Requirement already satisfied: bleach in /usr/local/lib/python3.10/dist-packages (from nbconvert>=5->notebook>=4.4.1->widgetsnbextension~=3.6.0->ipywidgets>=7.6.5->pycaret[mlops]) (6.0.0)\n",
            "Requirement already satisfied: defusedxml in /usr/local/lib/python3.10/dist-packages (from nbconvert>=5->notebook>=4.4.1->widgetsnbextension~=3.6.0->ipywidgets>=7.6.5->pycaret[mlops]) (0.7.1)\n",
            "Requirement already satisfied: jupyterlab-pygments in /usr/local/lib/python3.10/dist-packages (from nbconvert>=5->notebook>=4.4.1->widgetsnbextension~=3.6.0->ipywidgets>=7.6.5->pycaret[mlops]) (0.2.2)\n",
            "Requirement already satisfied: mistune<2,>=0.8.1 in /usr/local/lib/python3.10/dist-packages (from nbconvert>=5->notebook>=4.4.1->widgetsnbextension~=3.6.0->ipywidgets>=7.6.5->pycaret[mlops]) (0.8.4)\n",
            "Requirement already satisfied: nbclient>=0.5.0 in /usr/local/lib/python3.10/dist-packages (from nbconvert>=5->notebook>=4.4.1->widgetsnbextension~=3.6.0->ipywidgets>=7.6.5->pycaret[mlops]) (0.8.0)\n",
            "Requirement already satisfied: pandocfilters>=1.4.1 in /usr/local/lib/python3.10/dist-packages (from nbconvert>=5->notebook>=4.4.1->widgetsnbextension~=3.6.0->ipywidgets>=7.6.5->pycaret[mlops]) (1.5.0)\n",
            "Requirement already satisfied: tinycss2 in /usr/local/lib/python3.10/dist-packages (from nbconvert>=5->notebook>=4.4.1->widgetsnbextension~=3.6.0->ipywidgets>=7.6.5->pycaret[mlops]) (1.2.1)\n",
            "Requirement already satisfied: argon2-cffi-bindings in /usr/local/lib/python3.10/dist-packages (from argon2-cffi->notebook>=4.4.1->widgetsnbextension~=3.6.0->ipywidgets>=7.6.5->pycaret[mlops]) (21.2.0)\n",
            "Requirement already satisfied: cffi>=1.0.1 in /usr/local/lib/python3.10/dist-packages (from argon2-cffi-bindings->argon2-cffi->notebook>=4.4.1->widgetsnbextension~=3.6.0->ipywidgets>=7.6.5->pycaret[mlops]) (1.15.1)\n",
            "Requirement already satisfied: soupsieve>1.2 in /usr/local/lib/python3.10/dist-packages (from beautifulsoup4->nbconvert>=5->notebook>=4.4.1->widgetsnbextension~=3.6.0->ipywidgets>=7.6.5->pycaret[mlops]) (2.5)\n",
            "Requirement already satisfied: webencodings in /usr/local/lib/python3.10/dist-packages (from bleach->nbconvert>=5->notebook>=4.4.1->widgetsnbextension~=3.6.0->ipywidgets>=7.6.5->pycaret[mlops]) (0.5.1)\n",
            "Requirement already satisfied: pycparser in /usr/local/lib/python3.10/dist-packages (from cffi>=1.0.1->argon2-cffi-bindings->argon2-cffi->notebook>=4.4.1->widgetsnbextension~=3.6.0->ipywidgets>=7.6.5->pycaret[mlops]) (2.21)\n"
          ]
        }
      ]
    },
    {
      "cell_type": "markdown",
      "source": [
        "## importando pandas / drive / sklearn / regreção do pycaret"
      ],
      "metadata": {
        "id": "pTmykrjxgMIA"
      }
    },
    {
      "cell_type": "code",
      "source": [
        "import pandas as pd\n",
        "from google.colab import drive\n",
        "from sklearn.preprocessing import MinMaxScaler\n",
        "from pycaret.regression import *"
      ],
      "metadata": {
        "id": "VTifN-x3fiZ-"
      },
      "execution_count": 2,
      "outputs": []
    },
    {
      "cell_type": "code",
      "source": [
        "df=pd.read_csv('/content/Mall_Customers.csv')"
      ],
      "metadata": {
        "id": "LbwowbTYgW6r"
      },
      "execution_count": 4,
      "outputs": []
    },
    {
      "cell_type": "code",
      "source": [
        "df.columns"
      ],
      "metadata": {
        "colab": {
          "base_uri": "https://localhost:8080/"
        },
        "id": "hHygZ_Wl-TLv",
        "outputId": "31340ceb-1601-4a47-a02c-d850a21f3d22"
      },
      "execution_count": 5,
      "outputs": [
        {
          "output_type": "execute_result",
          "data": {
            "text/plain": [
              "Index(['CustomerID', 'Gender', 'Age', 'Annual Income (k$)',\n",
              "       'Spending Score (1-100)'],\n",
              "      dtype='object')"
            ]
          },
          "metadata": {},
          "execution_count": 5
        }
      ]
    },
    {
      "cell_type": "code",
      "source": [
        "df['annualincome']=df ['Annual Income (k$)']\n",
        "df['spendingscore']=df['Spending Score (1-100)']\n",
        "\n",
        "df=df.drop(columns='CustomerID')\n",
        "df=df.drop(columns='Gender')"
      ],
      "metadata": {
        "id": "zeKNOL5CBHVE"
      },
      "execution_count": 6,
      "outputs": []
    },
    {
      "cell_type": "code",
      "source": [
        "df=df.drop(columns='Annual Income (k$)')\n",
        "df=df.drop(columns='Spending Score (1-100)')\n",
        "df.columns"
      ],
      "metadata": {
        "colab": {
          "base_uri": "https://localhost:8080/"
        },
        "id": "TYrQPvRV-Z5t",
        "outputId": "b5fe0a3c-fb0a-4361-80eb-0a2f20983c77"
      },
      "execution_count": 7,
      "outputs": [
        {
          "output_type": "execute_result",
          "data": {
            "text/plain": [
              "Index(['Age', 'annualincome', 'spendingscore'], dtype='object')"
            ]
          },
          "metadata": {},
          "execution_count": 7
        }
      ]
    },
    {
      "cell_type": "code",
      "source": [
        "df.columns"
      ],
      "metadata": {
        "colab": {
          "base_uri": "https://localhost:8080/"
        },
        "id": "zb9Ox4js_X8p",
        "outputId": "0586919e-1d3c-40f0-e5f5-48c409a9fcb6"
      },
      "execution_count": 8,
      "outputs": [
        {
          "output_type": "execute_result",
          "data": {
            "text/plain": [
              "Index(['Age', 'annualincome', 'spendingscore'], dtype='object')"
            ]
          },
          "metadata": {},
          "execution_count": 8
        }
      ]
    },
    {
      "cell_type": "code",
      "source": [
        "import numpy as np\n",
        "from sklearn.preprocessing import MinMaxScaler\n"
      ],
      "metadata": {
        "id": "n-kHSx9x_gRS"
      },
      "execution_count": 9,
      "outputs": []
    },
    {
      "cell_type": "code",
      "source": [
        "scaler = MinMaxScaler()\n"
      ],
      "metadata": {
        "id": "dbdnqzH3_4ZK"
      },
      "execution_count": 10,
      "outputs": []
    },
    {
      "cell_type": "code",
      "source": [
        "scaler.fit(df)\n",
        "scaler.transform(df)\n",
        "scaled_data = scaler.fit_transform(df)\n",
        "df = pd.DataFrame(scaled_data, columns = df.columns)"
      ],
      "metadata": {
        "id": "yDYNhWKs__GD"
      },
      "execution_count": 11,
      "outputs": []
    },
    {
      "cell_type": "code",
      "source": [
        "s = setup(\n",
        "    data=df,\n",
        "    target='spendingscore'\n",
        ")"
      ],
      "metadata": {
        "colab": {
          "base_uri": "https://localhost:8080/",
          "height": 645
        },
        "id": "QJPowJuPAR78",
        "outputId": "414f5a56-ec51-486a-b969-ffa4646749b5"
      },
      "execution_count": 12,
      "outputs": [
        {
          "output_type": "display_data",
          "data": {
            "text/plain": [
              "<pandas.io.formats.style.Styler at 0x791beb153af0>"
            ],
            "text/html": [
              "<style type=\"text/css\">\n",
              "#T_25d2b_row8_col1 {\n",
              "  background-color: lightgreen;\n",
              "}\n",
              "</style>\n",
              "<table id=\"T_25d2b\" class=\"dataframe\">\n",
              "  <thead>\n",
              "    <tr>\n",
              "      <th class=\"blank level0\" >&nbsp;</th>\n",
              "      <th id=\"T_25d2b_level0_col0\" class=\"col_heading level0 col0\" >Description</th>\n",
              "      <th id=\"T_25d2b_level0_col1\" class=\"col_heading level0 col1\" >Value</th>\n",
              "    </tr>\n",
              "  </thead>\n",
              "  <tbody>\n",
              "    <tr>\n",
              "      <th id=\"T_25d2b_level0_row0\" class=\"row_heading level0 row0\" >0</th>\n",
              "      <td id=\"T_25d2b_row0_col0\" class=\"data row0 col0\" >Session id</td>\n",
              "      <td id=\"T_25d2b_row0_col1\" class=\"data row0 col1\" >8965</td>\n",
              "    </tr>\n",
              "    <tr>\n",
              "      <th id=\"T_25d2b_level0_row1\" class=\"row_heading level0 row1\" >1</th>\n",
              "      <td id=\"T_25d2b_row1_col0\" class=\"data row1 col0\" >Target</td>\n",
              "      <td id=\"T_25d2b_row1_col1\" class=\"data row1 col1\" >spendingscore</td>\n",
              "    </tr>\n",
              "    <tr>\n",
              "      <th id=\"T_25d2b_level0_row2\" class=\"row_heading level0 row2\" >2</th>\n",
              "      <td id=\"T_25d2b_row2_col0\" class=\"data row2 col0\" >Target type</td>\n",
              "      <td id=\"T_25d2b_row2_col1\" class=\"data row2 col1\" >Regression</td>\n",
              "    </tr>\n",
              "    <tr>\n",
              "      <th id=\"T_25d2b_level0_row3\" class=\"row_heading level0 row3\" >3</th>\n",
              "      <td id=\"T_25d2b_row3_col0\" class=\"data row3 col0\" >Original data shape</td>\n",
              "      <td id=\"T_25d2b_row3_col1\" class=\"data row3 col1\" >(200, 3)</td>\n",
              "    </tr>\n",
              "    <tr>\n",
              "      <th id=\"T_25d2b_level0_row4\" class=\"row_heading level0 row4\" >4</th>\n",
              "      <td id=\"T_25d2b_row4_col0\" class=\"data row4 col0\" >Transformed data shape</td>\n",
              "      <td id=\"T_25d2b_row4_col1\" class=\"data row4 col1\" >(200, 3)</td>\n",
              "    </tr>\n",
              "    <tr>\n",
              "      <th id=\"T_25d2b_level0_row5\" class=\"row_heading level0 row5\" >5</th>\n",
              "      <td id=\"T_25d2b_row5_col0\" class=\"data row5 col0\" >Transformed train set shape</td>\n",
              "      <td id=\"T_25d2b_row5_col1\" class=\"data row5 col1\" >(140, 3)</td>\n",
              "    </tr>\n",
              "    <tr>\n",
              "      <th id=\"T_25d2b_level0_row6\" class=\"row_heading level0 row6\" >6</th>\n",
              "      <td id=\"T_25d2b_row6_col0\" class=\"data row6 col0\" >Transformed test set shape</td>\n",
              "      <td id=\"T_25d2b_row6_col1\" class=\"data row6 col1\" >(60, 3)</td>\n",
              "    </tr>\n",
              "    <tr>\n",
              "      <th id=\"T_25d2b_level0_row7\" class=\"row_heading level0 row7\" >7</th>\n",
              "      <td id=\"T_25d2b_row7_col0\" class=\"data row7 col0\" >Numeric features</td>\n",
              "      <td id=\"T_25d2b_row7_col1\" class=\"data row7 col1\" >2</td>\n",
              "    </tr>\n",
              "    <tr>\n",
              "      <th id=\"T_25d2b_level0_row8\" class=\"row_heading level0 row8\" >8</th>\n",
              "      <td id=\"T_25d2b_row8_col0\" class=\"data row8 col0\" >Preprocess</td>\n",
              "      <td id=\"T_25d2b_row8_col1\" class=\"data row8 col1\" >True</td>\n",
              "    </tr>\n",
              "    <tr>\n",
              "      <th id=\"T_25d2b_level0_row9\" class=\"row_heading level0 row9\" >9</th>\n",
              "      <td id=\"T_25d2b_row9_col0\" class=\"data row9 col0\" >Imputation type</td>\n",
              "      <td id=\"T_25d2b_row9_col1\" class=\"data row9 col1\" >simple</td>\n",
              "    </tr>\n",
              "    <tr>\n",
              "      <th id=\"T_25d2b_level0_row10\" class=\"row_heading level0 row10\" >10</th>\n",
              "      <td id=\"T_25d2b_row10_col0\" class=\"data row10 col0\" >Numeric imputation</td>\n",
              "      <td id=\"T_25d2b_row10_col1\" class=\"data row10 col1\" >mean</td>\n",
              "    </tr>\n",
              "    <tr>\n",
              "      <th id=\"T_25d2b_level0_row11\" class=\"row_heading level0 row11\" >11</th>\n",
              "      <td id=\"T_25d2b_row11_col0\" class=\"data row11 col0\" >Categorical imputation</td>\n",
              "      <td id=\"T_25d2b_row11_col1\" class=\"data row11 col1\" >mode</td>\n",
              "    </tr>\n",
              "    <tr>\n",
              "      <th id=\"T_25d2b_level0_row12\" class=\"row_heading level0 row12\" >12</th>\n",
              "      <td id=\"T_25d2b_row12_col0\" class=\"data row12 col0\" >Fold Generator</td>\n",
              "      <td id=\"T_25d2b_row12_col1\" class=\"data row12 col1\" >KFold</td>\n",
              "    </tr>\n",
              "    <tr>\n",
              "      <th id=\"T_25d2b_level0_row13\" class=\"row_heading level0 row13\" >13</th>\n",
              "      <td id=\"T_25d2b_row13_col0\" class=\"data row13 col0\" >Fold Number</td>\n",
              "      <td id=\"T_25d2b_row13_col1\" class=\"data row13 col1\" >10</td>\n",
              "    </tr>\n",
              "    <tr>\n",
              "      <th id=\"T_25d2b_level0_row14\" class=\"row_heading level0 row14\" >14</th>\n",
              "      <td id=\"T_25d2b_row14_col0\" class=\"data row14 col0\" >CPU Jobs</td>\n",
              "      <td id=\"T_25d2b_row14_col1\" class=\"data row14 col1\" >-1</td>\n",
              "    </tr>\n",
              "    <tr>\n",
              "      <th id=\"T_25d2b_level0_row15\" class=\"row_heading level0 row15\" >15</th>\n",
              "      <td id=\"T_25d2b_row15_col0\" class=\"data row15 col0\" >Use GPU</td>\n",
              "      <td id=\"T_25d2b_row15_col1\" class=\"data row15 col1\" >False</td>\n",
              "    </tr>\n",
              "    <tr>\n",
              "      <th id=\"T_25d2b_level0_row16\" class=\"row_heading level0 row16\" >16</th>\n",
              "      <td id=\"T_25d2b_row16_col0\" class=\"data row16 col0\" >Log Experiment</td>\n",
              "      <td id=\"T_25d2b_row16_col1\" class=\"data row16 col1\" >False</td>\n",
              "    </tr>\n",
              "    <tr>\n",
              "      <th id=\"T_25d2b_level0_row17\" class=\"row_heading level0 row17\" >17</th>\n",
              "      <td id=\"T_25d2b_row17_col0\" class=\"data row17 col0\" >Experiment Name</td>\n",
              "      <td id=\"T_25d2b_row17_col1\" class=\"data row17 col1\" >reg-default-name</td>\n",
              "    </tr>\n",
              "    <tr>\n",
              "      <th id=\"T_25d2b_level0_row18\" class=\"row_heading level0 row18\" >18</th>\n",
              "      <td id=\"T_25d2b_row18_col0\" class=\"data row18 col0\" >USI</td>\n",
              "      <td id=\"T_25d2b_row18_col1\" class=\"data row18 col1\" >456c</td>\n",
              "    </tr>\n",
              "  </tbody>\n",
              "</table>\n"
            ]
          },
          "metadata": {}
        }
      ]
    },
    {
      "cell_type": "code",
      "source": [
        "melhor_modelo = compare_models()\n"
      ],
      "metadata": {
        "colab": {
          "base_uri": "https://localhost:8080/",
          "height": 645,
          "referenced_widgets": [
            "a48be579ccd348ba92c7f4334bc0e97c",
            "2eeeadae441047f5ac36f24a6977908b",
            "ff6f6c285f8d4f028a1e2408252e2c61",
            "aea3438883f1440ebab08ccda66a7623",
            "7a3adac5b21b4f11a869071c258af6c6",
            "b68976eefbce4bd796b046eb6840c967",
            "5b9e457884334261b86e419c955b5ef0",
            "77d31522a11b4d8fa1fcd2275251cfbe",
            "9dfebc3469b64c1cb38a46fce17e94c8",
            "9055f2ae656a432f979f91df48bb82f7",
            "2c2432dbfdd647199f35e0fb30d45135"
          ]
        },
        "id": "pE42K72GDXJ-",
        "outputId": "9a3c5ae6-e4aa-445c-a9e1-5ebc7e561348"
      },
      "execution_count": 13,
      "outputs": [
        {
          "output_type": "display_data",
          "data": {
            "text/plain": [
              "<IPython.core.display.HTML object>"
            ],
            "text/html": []
          },
          "metadata": {}
        },
        {
          "output_type": "display_data",
          "data": {
            "text/plain": [
              "<pandas.io.formats.style.Styler at 0x791bf159d690>"
            ],
            "text/html": [
              "<style type=\"text/css\">\n",
              "#T_c26d2 th {\n",
              "  text-align: left;\n",
              "}\n",
              "#T_c26d2_row0_col0, #T_c26d2_row0_col1, #T_c26d2_row0_col2, #T_c26d2_row0_col6, #T_c26d2_row1_col0, #T_c26d2_row1_col1, #T_c26d2_row1_col3, #T_c26d2_row1_col4, #T_c26d2_row1_col5, #T_c26d2_row1_col6, #T_c26d2_row2_col0, #T_c26d2_row2_col1, #T_c26d2_row2_col2, #T_c26d2_row2_col3, #T_c26d2_row2_col4, #T_c26d2_row2_col5, #T_c26d2_row2_col6, #T_c26d2_row3_col0, #T_c26d2_row3_col2, #T_c26d2_row3_col3, #T_c26d2_row3_col4, #T_c26d2_row3_col5, #T_c26d2_row3_col6, #T_c26d2_row4_col0, #T_c26d2_row4_col1, #T_c26d2_row4_col2, #T_c26d2_row4_col3, #T_c26d2_row4_col4, #T_c26d2_row4_col5, #T_c26d2_row4_col6, #T_c26d2_row5_col0, #T_c26d2_row5_col1, #T_c26d2_row5_col2, #T_c26d2_row5_col3, #T_c26d2_row5_col4, #T_c26d2_row5_col5, #T_c26d2_row5_col6, #T_c26d2_row6_col0, #T_c26d2_row6_col1, #T_c26d2_row6_col2, #T_c26d2_row6_col3, #T_c26d2_row6_col4, #T_c26d2_row6_col5, #T_c26d2_row7_col0, #T_c26d2_row7_col1, #T_c26d2_row7_col2, #T_c26d2_row7_col3, #T_c26d2_row7_col4, #T_c26d2_row7_col5, #T_c26d2_row7_col6, #T_c26d2_row8_col0, #T_c26d2_row8_col1, #T_c26d2_row8_col2, #T_c26d2_row8_col3, #T_c26d2_row8_col4, #T_c26d2_row8_col5, #T_c26d2_row8_col6, #T_c26d2_row9_col0, #T_c26d2_row9_col1, #T_c26d2_row9_col2, #T_c26d2_row9_col3, #T_c26d2_row9_col4, #T_c26d2_row9_col5, #T_c26d2_row9_col6, #T_c26d2_row10_col0, #T_c26d2_row10_col1, #T_c26d2_row10_col2, #T_c26d2_row10_col3, #T_c26d2_row10_col4, #T_c26d2_row10_col5, #T_c26d2_row10_col6, #T_c26d2_row11_col0, #T_c26d2_row11_col1, #T_c26d2_row11_col2, #T_c26d2_row11_col3, #T_c26d2_row11_col4, #T_c26d2_row11_col5, #T_c26d2_row11_col6, #T_c26d2_row12_col0, #T_c26d2_row12_col1, #T_c26d2_row12_col2, #T_c26d2_row12_col3, #T_c26d2_row12_col4, #T_c26d2_row12_col5, #T_c26d2_row12_col6, #T_c26d2_row13_col0, #T_c26d2_row13_col1, #T_c26d2_row13_col2, #T_c26d2_row13_col3, #T_c26d2_row13_col4, #T_c26d2_row13_col5, #T_c26d2_row13_col6, #T_c26d2_row14_col0, #T_c26d2_row14_col1, #T_c26d2_row14_col2, #T_c26d2_row14_col3, #T_c26d2_row14_col4, #T_c26d2_row14_col5, #T_c26d2_row14_col6, #T_c26d2_row15_col0, #T_c26d2_row15_col1, #T_c26d2_row15_col2, #T_c26d2_row15_col3, #T_c26d2_row15_col4, #T_c26d2_row15_col5, #T_c26d2_row15_col6, #T_c26d2_row16_col0, #T_c26d2_row16_col1, #T_c26d2_row16_col2, #T_c26d2_row16_col3, #T_c26d2_row16_col4, #T_c26d2_row16_col5, #T_c26d2_row16_col6, #T_c26d2_row17_col0, #T_c26d2_row17_col1, #T_c26d2_row17_col2, #T_c26d2_row17_col3, #T_c26d2_row17_col4, #T_c26d2_row17_col5, #T_c26d2_row17_col6, #T_c26d2_row18_col0, #T_c26d2_row18_col1, #T_c26d2_row18_col2, #T_c26d2_row18_col3, #T_c26d2_row18_col4, #T_c26d2_row18_col5, #T_c26d2_row18_col6 {\n",
              "  text-align: left;\n",
              "}\n",
              "#T_c26d2_row0_col3, #T_c26d2_row0_col4, #T_c26d2_row0_col5, #T_c26d2_row1_col2, #T_c26d2_row3_col1, #T_c26d2_row6_col6 {\n",
              "  text-align: left;\n",
              "  background-color: yellow;\n",
              "}\n",
              "#T_c26d2_row0_col7, #T_c26d2_row1_col7, #T_c26d2_row2_col7, #T_c26d2_row3_col7, #T_c26d2_row4_col7, #T_c26d2_row5_col7, #T_c26d2_row6_col7, #T_c26d2_row7_col7, #T_c26d2_row8_col7, #T_c26d2_row9_col7, #T_c26d2_row10_col7, #T_c26d2_row11_col7, #T_c26d2_row12_col7, #T_c26d2_row13_col7, #T_c26d2_row14_col7, #T_c26d2_row15_col7, #T_c26d2_row17_col7, #T_c26d2_row18_col7 {\n",
              "  text-align: left;\n",
              "  background-color: lightgrey;\n",
              "}\n",
              "#T_c26d2_row16_col7 {\n",
              "  text-align: left;\n",
              "  background-color: yellow;\n",
              "  background-color: lightgrey;\n",
              "}\n",
              "</style>\n",
              "<table id=\"T_c26d2\" class=\"dataframe\">\n",
              "  <thead>\n",
              "    <tr>\n",
              "      <th class=\"blank level0\" >&nbsp;</th>\n",
              "      <th id=\"T_c26d2_level0_col0\" class=\"col_heading level0 col0\" >Model</th>\n",
              "      <th id=\"T_c26d2_level0_col1\" class=\"col_heading level0 col1\" >MAE</th>\n",
              "      <th id=\"T_c26d2_level0_col2\" class=\"col_heading level0 col2\" >MSE</th>\n",
              "      <th id=\"T_c26d2_level0_col3\" class=\"col_heading level0 col3\" >RMSE</th>\n",
              "      <th id=\"T_c26d2_level0_col4\" class=\"col_heading level0 col4\" >R2</th>\n",
              "      <th id=\"T_c26d2_level0_col5\" class=\"col_heading level0 col5\" >RMSLE</th>\n",
              "      <th id=\"T_c26d2_level0_col6\" class=\"col_heading level0 col6\" >MAPE</th>\n",
              "      <th id=\"T_c26d2_level0_col7\" class=\"col_heading level0 col7\" >TT (Sec)</th>\n",
              "    </tr>\n",
              "  </thead>\n",
              "  <tbody>\n",
              "    <tr>\n",
              "      <th id=\"T_c26d2_level0_row0\" class=\"row_heading level0 row0\" >knn</th>\n",
              "      <td id=\"T_c26d2_row0_col0\" class=\"data row0 col0\" >K Neighbors Regressor</td>\n",
              "      <td id=\"T_c26d2_row0_col1\" class=\"data row0 col1\" >0.1585</td>\n",
              "      <td id=\"T_c26d2_row0_col2\" class=\"data row0 col2\" >0.0523</td>\n",
              "      <td id=\"T_c26d2_row0_col3\" class=\"data row0 col3\" >0.2171</td>\n",
              "      <td id=\"T_c26d2_row0_col4\" class=\"data row0 col4\" >0.2764</td>\n",
              "      <td id=\"T_c26d2_row0_col5\" class=\"data row0 col5\" >0.1489</td>\n",
              "      <td id=\"T_c26d2_row0_col6\" class=\"data row0 col6\" >0.9611</td>\n",
              "      <td id=\"T_c26d2_row0_col7\" class=\"data row0 col7\" >0.0660</td>\n",
              "    </tr>\n",
              "    <tr>\n",
              "      <th id=\"T_c26d2_level0_row1\" class=\"row_heading level0 row1\" >ada</th>\n",
              "      <td id=\"T_c26d2_row1_col0\" class=\"data row1 col0\" >AdaBoost Regressor</td>\n",
              "      <td id=\"T_c26d2_row1_col1\" class=\"data row1 col1\" >0.1705</td>\n",
              "      <td id=\"T_c26d2_row1_col2\" class=\"data row1 col2\" >0.0521</td>\n",
              "      <td id=\"T_c26d2_row1_col3\" class=\"data row1 col3\" >0.2238</td>\n",
              "      <td id=\"T_c26d2_row1_col4\" class=\"data row1 col4\" >0.2669</td>\n",
              "      <td id=\"T_c26d2_row1_col5\" class=\"data row1 col5\" >0.1534</td>\n",
              "      <td id=\"T_c26d2_row1_col6\" class=\"data row1 col6\" >1.0320</td>\n",
              "      <td id=\"T_c26d2_row1_col7\" class=\"data row1 col7\" >0.0860</td>\n",
              "    </tr>\n",
              "    <tr>\n",
              "      <th id=\"T_c26d2_level0_row2\" class=\"row_heading level0 row2\" >lightgbm</th>\n",
              "      <td id=\"T_c26d2_row2_col0\" class=\"data row2 col0\" >Light Gradient Boosting Machine</td>\n",
              "      <td id=\"T_c26d2_row2_col1\" class=\"data row2 col1\" >0.1668</td>\n",
              "      <td id=\"T_c26d2_row2_col2\" class=\"data row2 col2\" >0.0542</td>\n",
              "      <td id=\"T_c26d2_row2_col3\" class=\"data row2 col3\" >0.2276</td>\n",
              "      <td id=\"T_c26d2_row2_col4\" class=\"data row2 col4\" >0.2224</td>\n",
              "      <td id=\"T_c26d2_row2_col5\" class=\"data row2 col5\" >0.1553</td>\n",
              "      <td id=\"T_c26d2_row2_col6\" class=\"data row2 col6\" >1.0213</td>\n",
              "      <td id=\"T_c26d2_row2_col7\" class=\"data row2 col7\" >0.0650</td>\n",
              "    </tr>\n",
              "    <tr>\n",
              "      <th id=\"T_c26d2_level0_row3\" class=\"row_heading level0 row3\" >rf</th>\n",
              "      <td id=\"T_c26d2_row3_col0\" class=\"data row3 col0\" >Random Forest Regressor</td>\n",
              "      <td id=\"T_c26d2_row3_col1\" class=\"data row3 col1\" >0.1557</td>\n",
              "      <td id=\"T_c26d2_row3_col2\" class=\"data row3 col2\" >0.0576</td>\n",
              "      <td id=\"T_c26d2_row3_col3\" class=\"data row3 col3\" >0.2255</td>\n",
              "      <td id=\"T_c26d2_row3_col4\" class=\"data row3 col4\" >0.2198</td>\n",
              "      <td id=\"T_c26d2_row3_col5\" class=\"data row3 col5\" >0.1526</td>\n",
              "      <td id=\"T_c26d2_row3_col6\" class=\"data row3 col6\" >0.8846</td>\n",
              "      <td id=\"T_c26d2_row3_col7\" class=\"data row3 col7\" >0.5020</td>\n",
              "    </tr>\n",
              "    <tr>\n",
              "      <th id=\"T_c26d2_level0_row4\" class=\"row_heading level0 row4\" >gbr</th>\n",
              "      <td id=\"T_c26d2_row4_col0\" class=\"data row4 col0\" >Gradient Boosting Regressor</td>\n",
              "      <td id=\"T_c26d2_row4_col1\" class=\"data row4 col1\" >0.1645</td>\n",
              "      <td id=\"T_c26d2_row4_col2\" class=\"data row4 col2\" >0.0603</td>\n",
              "      <td id=\"T_c26d2_row4_col3\" class=\"data row4 col3\" >0.2328</td>\n",
              "      <td id=\"T_c26d2_row4_col4\" class=\"data row4 col4\" >0.1712</td>\n",
              "      <td id=\"T_c26d2_row4_col5\" class=\"data row4 col5\" >0.1569</td>\n",
              "      <td id=\"T_c26d2_row4_col6\" class=\"data row4 col6\" >0.8980</td>\n",
              "      <td id=\"T_c26d2_row4_col7\" class=\"data row4 col7\" >0.1290</td>\n",
              "    </tr>\n",
              "    <tr>\n",
              "      <th id=\"T_c26d2_level0_row5\" class=\"row_heading level0 row5\" >et</th>\n",
              "      <td id=\"T_c26d2_row5_col0\" class=\"data row5 col0\" >Extra Trees Regressor</td>\n",
              "      <td id=\"T_c26d2_row5_col1\" class=\"data row5 col1\" >0.1653</td>\n",
              "      <td id=\"T_c26d2_row5_col2\" class=\"data row5 col2\" >0.0614</td>\n",
              "      <td id=\"T_c26d2_row5_col3\" class=\"data row5 col3\" >0.2343</td>\n",
              "      <td id=\"T_c26d2_row5_col4\" class=\"data row5 col4\" >0.1565</td>\n",
              "      <td id=\"T_c26d2_row5_col5\" class=\"data row5 col5\" >0.1584</td>\n",
              "      <td id=\"T_c26d2_row5_col6\" class=\"data row5 col6\" >0.8907</td>\n",
              "      <td id=\"T_c26d2_row5_col7\" class=\"data row5 col7\" >0.3680</td>\n",
              "    </tr>\n",
              "    <tr>\n",
              "      <th id=\"T_c26d2_level0_row6\" class=\"row_heading level0 row6\" >xgboost</th>\n",
              "      <td id=\"T_c26d2_row6_col0\" class=\"data row6 col0\" >Extreme Gradient Boosting</td>\n",
              "      <td id=\"T_c26d2_row6_col1\" class=\"data row6 col1\" >0.1685</td>\n",
              "      <td id=\"T_c26d2_row6_col2\" class=\"data row6 col2\" >0.0678</td>\n",
              "      <td id=\"T_c26d2_row6_col3\" class=\"data row6 col3\" >0.2437</td>\n",
              "      <td id=\"T_c26d2_row6_col4\" class=\"data row6 col4\" >0.0722</td>\n",
              "      <td id=\"T_c26d2_row6_col5\" class=\"data row6 col5\" >0.1643</td>\n",
              "      <td id=\"T_c26d2_row6_col6\" class=\"data row6 col6\" >0.8819</td>\n",
              "      <td id=\"T_c26d2_row6_col7\" class=\"data row6 col7\" >0.0830</td>\n",
              "    </tr>\n",
              "    <tr>\n",
              "      <th id=\"T_c26d2_level0_row7\" class=\"row_heading level0 row7\" >omp</th>\n",
              "      <td id=\"T_c26d2_row7_col0\" class=\"data row7 col0\" >Orthogonal Matching Pursuit</td>\n",
              "      <td id=\"T_c26d2_row7_col1\" class=\"data row7 col1\" >0.2174</td>\n",
              "      <td id=\"T_c26d2_row7_col2\" class=\"data row7 col2\" >0.0690</td>\n",
              "      <td id=\"T_c26d2_row7_col3\" class=\"data row7 col3\" >0.2609</td>\n",
              "      <td id=\"T_c26d2_row7_col4\" class=\"data row7 col4\" >-0.0025</td>\n",
              "      <td id=\"T_c26d2_row7_col5\" class=\"data row7 col5\" >0.1806</td>\n",
              "      <td id=\"T_c26d2_row7_col6\" class=\"data row7 col6\" >1.3319</td>\n",
              "      <td id=\"T_c26d2_row7_col7\" class=\"data row7 col7\" >0.0610</td>\n",
              "    </tr>\n",
              "    <tr>\n",
              "      <th id=\"T_c26d2_level0_row8\" class=\"row_heading level0 row8\" >ridge</th>\n",
              "      <td id=\"T_c26d2_row8_col0\" class=\"data row8 col0\" >Ridge Regression</td>\n",
              "      <td id=\"T_c26d2_row8_col1\" class=\"data row8 col1\" >0.2183</td>\n",
              "      <td id=\"T_c26d2_row8_col2\" class=\"data row8 col2\" >0.0704</td>\n",
              "      <td id=\"T_c26d2_row8_col3\" class=\"data row8 col3\" >0.2634</td>\n",
              "      <td id=\"T_c26d2_row8_col4\" class=\"data row8 col4\" >-0.0203</td>\n",
              "      <td id=\"T_c26d2_row8_col5\" class=\"data row8 col5\" >0.1822</td>\n",
              "      <td id=\"T_c26d2_row8_col6\" class=\"data row8 col6\" >1.3456</td>\n",
              "      <td id=\"T_c26d2_row8_col7\" class=\"data row8 col7\" >0.0700</td>\n",
              "    </tr>\n",
              "    <tr>\n",
              "      <th id=\"T_c26d2_level0_row9\" class=\"row_heading level0 row9\" >lar</th>\n",
              "      <td id=\"T_c26d2_row9_col0\" class=\"data row9 col0\" >Least Angle Regression</td>\n",
              "      <td id=\"T_c26d2_row9_col1\" class=\"data row9 col1\" >0.2192</td>\n",
              "      <td id=\"T_c26d2_row9_col2\" class=\"data row9 col2\" >0.0706</td>\n",
              "      <td id=\"T_c26d2_row9_col3\" class=\"data row9 col3\" >0.2637</td>\n",
              "      <td id=\"T_c26d2_row9_col4\" class=\"data row9 col4\" >-0.0236</td>\n",
              "      <td id=\"T_c26d2_row9_col5\" class=\"data row9 col5\" >0.1824</td>\n",
              "      <td id=\"T_c26d2_row9_col6\" class=\"data row9 col6\" >1.3449</td>\n",
              "      <td id=\"T_c26d2_row9_col7\" class=\"data row9 col7\" >0.0380</td>\n",
              "    </tr>\n",
              "    <tr>\n",
              "      <th id=\"T_c26d2_level0_row10\" class=\"row_heading level0 row10\" >lr</th>\n",
              "      <td id=\"T_c26d2_row10_col0\" class=\"data row10 col0\" >Linear Regression</td>\n",
              "      <td id=\"T_c26d2_row10_col1\" class=\"data row10 col1\" >0.2192</td>\n",
              "      <td id=\"T_c26d2_row10_col2\" class=\"data row10 col2\" >0.0706</td>\n",
              "      <td id=\"T_c26d2_row10_col3\" class=\"data row10 col3\" >0.2637</td>\n",
              "      <td id=\"T_c26d2_row10_col4\" class=\"data row10 col4\" >-0.0236</td>\n",
              "      <td id=\"T_c26d2_row10_col5\" class=\"data row10 col5\" >0.1824</td>\n",
              "      <td id=\"T_c26d2_row10_col6\" class=\"data row10 col6\" >1.3449</td>\n",
              "      <td id=\"T_c26d2_row10_col7\" class=\"data row10 col7\" >1.0480</td>\n",
              "    </tr>\n",
              "    <tr>\n",
              "      <th id=\"T_c26d2_level0_row11\" class=\"row_heading level0 row11\" >br</th>\n",
              "      <td id=\"T_c26d2_row11_col0\" class=\"data row11 col0\" >Bayesian Ridge</td>\n",
              "      <td id=\"T_c26d2_row11_col1\" class=\"data row11 col1\" >0.2184</td>\n",
              "      <td id=\"T_c26d2_row11_col2\" class=\"data row11 col2\" >0.0707</td>\n",
              "      <td id=\"T_c26d2_row11_col3\" class=\"data row11 col3\" >0.2641</td>\n",
              "      <td id=\"T_c26d2_row11_col4\" class=\"data row11 col4\" >-0.0243</td>\n",
              "      <td id=\"T_c26d2_row11_col5\" class=\"data row11 col5\" >0.1826</td>\n",
              "      <td id=\"T_c26d2_row11_col6\" class=\"data row11 col6\" >1.3481</td>\n",
              "      <td id=\"T_c26d2_row11_col7\" class=\"data row11 col7\" >0.0430</td>\n",
              "    </tr>\n",
              "    <tr>\n",
              "      <th id=\"T_c26d2_level0_row12\" class=\"row_heading level0 row12\" >huber</th>\n",
              "      <td id=\"T_c26d2_row12_col0\" class=\"data row12 col0\" >Huber Regressor</td>\n",
              "      <td id=\"T_c26d2_row12_col1\" class=\"data row12 col1\" >0.2183</td>\n",
              "      <td id=\"T_c26d2_row12_col2\" class=\"data row12 col2\" >0.0724</td>\n",
              "      <td id=\"T_c26d2_row12_col3\" class=\"data row12 col3\" >0.2661</td>\n",
              "      <td id=\"T_c26d2_row12_col4\" class=\"data row12 col4\" >-0.0480</td>\n",
              "      <td id=\"T_c26d2_row12_col5\" class=\"data row12 col5\" >0.1853</td>\n",
              "      <td id=\"T_c26d2_row12_col6\" class=\"data row12 col6\" >1.4005</td>\n",
              "      <td id=\"T_c26d2_row12_col7\" class=\"data row12 col7\" >0.0440</td>\n",
              "    </tr>\n",
              "    <tr>\n",
              "      <th id=\"T_c26d2_level0_row13\" class=\"row_heading level0 row13\" >lasso</th>\n",
              "      <td id=\"T_c26d2_row13_col0\" class=\"data row13 col0\" >Lasso Regression</td>\n",
              "      <td id=\"T_c26d2_row13_col1\" class=\"data row13 col1\" >0.2254</td>\n",
              "      <td id=\"T_c26d2_row13_col2\" class=\"data row13 col2\" >0.0757</td>\n",
              "      <td id=\"T_c26d2_row13_col3\" class=\"data row13 col3\" >0.2743</td>\n",
              "      <td id=\"T_c26d2_row13_col4\" class=\"data row13 col4\" >-0.1062</td>\n",
              "      <td id=\"T_c26d2_row13_col5\" class=\"data row13 col5\" >0.1886</td>\n",
              "      <td id=\"T_c26d2_row13_col6\" class=\"data row13 col6\" >1.3816</td>\n",
              "      <td id=\"T_c26d2_row13_col7\" class=\"data row13 col7\" >0.0710</td>\n",
              "    </tr>\n",
              "    <tr>\n",
              "      <th id=\"T_c26d2_level0_row14\" class=\"row_heading level0 row14\" >en</th>\n",
              "      <td id=\"T_c26d2_row14_col0\" class=\"data row14 col0\" >Elastic Net</td>\n",
              "      <td id=\"T_c26d2_row14_col1\" class=\"data row14 col1\" >0.2254</td>\n",
              "      <td id=\"T_c26d2_row14_col2\" class=\"data row14 col2\" >0.0757</td>\n",
              "      <td id=\"T_c26d2_row14_col3\" class=\"data row14 col3\" >0.2743</td>\n",
              "      <td id=\"T_c26d2_row14_col4\" class=\"data row14 col4\" >-0.1062</td>\n",
              "      <td id=\"T_c26d2_row14_col5\" class=\"data row14 col5\" >0.1886</td>\n",
              "      <td id=\"T_c26d2_row14_col6\" class=\"data row14 col6\" >1.3816</td>\n",
              "      <td id=\"T_c26d2_row14_col7\" class=\"data row14 col7\" >0.0770</td>\n",
              "    </tr>\n",
              "    <tr>\n",
              "      <th id=\"T_c26d2_level0_row15\" class=\"row_heading level0 row15\" >llar</th>\n",
              "      <td id=\"T_c26d2_row15_col0\" class=\"data row15 col0\" >Lasso Least Angle Regression</td>\n",
              "      <td id=\"T_c26d2_row15_col1\" class=\"data row15 col1\" >0.2254</td>\n",
              "      <td id=\"T_c26d2_row15_col2\" class=\"data row15 col2\" >0.0757</td>\n",
              "      <td id=\"T_c26d2_row15_col3\" class=\"data row15 col3\" >0.2743</td>\n",
              "      <td id=\"T_c26d2_row15_col4\" class=\"data row15 col4\" >-0.1062</td>\n",
              "      <td id=\"T_c26d2_row15_col5\" class=\"data row15 col5\" >0.1886</td>\n",
              "      <td id=\"T_c26d2_row15_col6\" class=\"data row15 col6\" >1.3816</td>\n",
              "      <td id=\"T_c26d2_row15_col7\" class=\"data row15 col7\" >0.0390</td>\n",
              "    </tr>\n",
              "    <tr>\n",
              "      <th id=\"T_c26d2_level0_row16\" class=\"row_heading level0 row16\" >dummy</th>\n",
              "      <td id=\"T_c26d2_row16_col0\" class=\"data row16 col0\" >Dummy Regressor</td>\n",
              "      <td id=\"T_c26d2_row16_col1\" class=\"data row16 col1\" >0.2254</td>\n",
              "      <td id=\"T_c26d2_row16_col2\" class=\"data row16 col2\" >0.0757</td>\n",
              "      <td id=\"T_c26d2_row16_col3\" class=\"data row16 col3\" >0.2743</td>\n",
              "      <td id=\"T_c26d2_row16_col4\" class=\"data row16 col4\" >-0.1062</td>\n",
              "      <td id=\"T_c26d2_row16_col5\" class=\"data row16 col5\" >0.1886</td>\n",
              "      <td id=\"T_c26d2_row16_col6\" class=\"data row16 col6\" >1.3816</td>\n",
              "      <td id=\"T_c26d2_row16_col7\" class=\"data row16 col7\" >0.0200</td>\n",
              "    </tr>\n",
              "    <tr>\n",
              "      <th id=\"T_c26d2_level0_row17\" class=\"row_heading level0 row17\" >dt</th>\n",
              "      <td id=\"T_c26d2_row17_col0\" class=\"data row17 col0\" >Decision Tree Regressor</td>\n",
              "      <td id=\"T_c26d2_row17_col1\" class=\"data row17 col1\" >0.1983</td>\n",
              "      <td id=\"T_c26d2_row17_col2\" class=\"data row17 col2\" >0.0896</td>\n",
              "      <td id=\"T_c26d2_row17_col3\" class=\"data row17 col3\" >0.2831</td>\n",
              "      <td id=\"T_c26d2_row17_col4\" class=\"data row17 col4\" >-0.2182</td>\n",
              "      <td id=\"T_c26d2_row17_col5\" class=\"data row17 col5\" >0.1933</td>\n",
              "      <td id=\"T_c26d2_row17_col6\" class=\"data row17 col6\" >0.9028</td>\n",
              "      <td id=\"T_c26d2_row17_col7\" class=\"data row17 col7\" >0.0420</td>\n",
              "    </tr>\n",
              "    <tr>\n",
              "      <th id=\"T_c26d2_level0_row18\" class=\"row_heading level0 row18\" >par</th>\n",
              "      <td id=\"T_c26d2_row18_col0\" class=\"data row18 col0\" >Passive Aggressive Regressor</td>\n",
              "      <td id=\"T_c26d2_row18_col1\" class=\"data row18 col1\" >0.3790</td>\n",
              "      <td id=\"T_c26d2_row18_col2\" class=\"data row18 col2\" >0.2192</td>\n",
              "      <td id=\"T_c26d2_row18_col3\" class=\"data row18 col3\" >0.4579</td>\n",
              "      <td id=\"T_c26d2_row18_col4\" class=\"data row18 col4\" >-2.1185</td>\n",
              "      <td id=\"T_c26d2_row18_col5\" class=\"data row18 col5\" >0.2753</td>\n",
              "      <td id=\"T_c26d2_row18_col6\" class=\"data row18 col6\" >1.7806</td>\n",
              "      <td id=\"T_c26d2_row18_col7\" class=\"data row18 col7\" >0.0440</td>\n",
              "    </tr>\n",
              "  </tbody>\n",
              "</table>\n"
            ]
          },
          "metadata": {}
        },
        {
          "output_type": "display_data",
          "data": {
            "text/plain": [
              "Processing:   0%|          | 0/81 [00:00<?, ?it/s]"
            ],
            "application/vnd.jupyter.widget-view+json": {
              "version_major": 2,
              "version_minor": 0,
              "model_id": "a48be579ccd348ba92c7f4334bc0e97c"
            }
          },
          "metadata": {
            "application/vnd.jupyter.widget-view+json": {
              "colab": {
                "custom_widget_manager": {
                  "url": "https://ssl.gstatic.com/colaboratory-static/widgets/colab-cdn-widget-manager/b3e629b1971e1542/manager.min.js"
                }
              }
            }
          }
        },
        {
          "output_type": "display_data",
          "data": {
            "text/plain": [
              "<IPython.core.display.HTML object>"
            ],
            "text/html": []
          },
          "metadata": {}
        }
      ]
    },
    {
      "cell_type": "code",
      "source": [
        "evaluate_model(melhor_modelo)"
      ],
      "metadata": {
        "colab": {
          "base_uri": "https://localhost:8080/",
          "height": 221,
          "referenced_widgets": [
            "2c2b53e323f7442c96c3e5107d33482b",
            "5d39defc0a3a422a9dc948c2a1de6c62",
            "e46f263892d34f6b8ed93e73c1cf7304",
            "2309003ddced43e5b6f58d9c2315c5b6",
            "5b876a1174864948b626ebc7bc9765fc",
            "d94e8b5c10fd4b3ebc810996f3773272",
            "d015dedda4bf46b1a8b8484aa839b4f8"
          ]
        },
        "id": "tY359BlTDhBY",
        "outputId": "c99a623b-9f9d-4c11-f558-777ac517f0f7"
      },
      "execution_count": 14,
      "outputs": [
        {
          "output_type": "display_data",
          "data": {
            "text/plain": [
              "interactive(children=(ToggleButtons(description='Plot Type:', icons=('',), options=(('Pipeline Plot', 'pipelin…"
            ],
            "application/vnd.jupyter.widget-view+json": {
              "version_major": 2,
              "version_minor": 0,
              "model_id": "2c2b53e323f7442c96c3e5107d33482b"
            }
          },
          "metadata": {
            "application/vnd.jupyter.widget-view+json": {
              "colab": {
                "custom_widget_manager": {
                  "url": "https://ssl.gstatic.com/colaboratory-static/widgets/colab-cdn-widget-manager/b3e629b1971e1542/manager.min.js"
                }
              }
            }
          }
        }
      ]
    },
    {
      "cell_type": "code",
      "source": [
        "save_model(melhor_modelo, 'modelo_2')\n"
      ],
      "metadata": {
        "colab": {
          "base_uri": "https://localhost:8080/"
        },
        "id": "7hYb8Mg5I6g3",
        "outputId": "e223a2cd-0220-4b81-df41-426bc33715af"
      },
      "execution_count": 15,
      "outputs": [
        {
          "output_type": "stream",
          "name": "stdout",
          "text": [
            "Transformation Pipeline and Model Successfully Saved\n"
          ]
        },
        {
          "output_type": "execute_result",
          "data": {
            "text/plain": [
              "(Pipeline(memory=Memory(location=None),\n",
              "          steps=[('numerical_imputer',\n",
              "                  TransformerWrapper(include=['Age', 'annualincome'],\n",
              "                                     transformer=SimpleImputer())),\n",
              "                 ('categorical_imputer',\n",
              "                  TransformerWrapper(include=[],\n",
              "                                     transformer=SimpleImputer(strategy='most_frequent'))),\n",
              "                 ('trained_model', KNeighborsRegressor(n_jobs=-1))]),\n",
              " 'modelo_2.pkl')"
            ]
          },
          "metadata": {},
          "execution_count": 15
        }
      ]
    },
    {
      "cell_type": "code",
      "source": [
        "create_api(melhor_modelo, 'minha_api')"
      ],
      "metadata": {
        "colab": {
          "base_uri": "https://localhost:8080/"
        },
        "id": "PliYMVBSI7aq",
        "outputId": "a3a922da-6dee-49f9-94ce-09784fb4d5ff"
      },
      "execution_count": 16,
      "outputs": [
        {
          "output_type": "stream",
          "name": "stdout",
          "text": [
            "API successfully created. This function only creates a POST API, it doesn't run it automatically. To run your API, please run this command --> !python minha_api.py\n"
          ]
        }
      ]
    }
  ]
}